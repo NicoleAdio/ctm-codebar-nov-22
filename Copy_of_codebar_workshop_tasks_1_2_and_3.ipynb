{
  "nbformat": 4,
  "nbformat_minor": 0,
  "metadata": {
    "colab": {
      "provenance": [],
      "collapsed_sections": [
        "iE-ghUvQvk7y",
        "cK_RpyVP-TWZ"
      ],
      "toc_visible": true,
      "include_colab_link": true
    },
    "kernelspec": {
      "name": "python3",
      "display_name": "Python 3"
    },
    "language_info": {
      "name": "python"
    },
    "gpuClass": "standard"
  },
  "cells": [
    {
      "cell_type": "markdown",
      "metadata": {
        "id": "view-in-github",
        "colab_type": "text"
      },
      "source": [
        "<a href=\"https://colab.research.google.com/github/itsvipa/ctm-codebar-nov-22-planning/blob/main/Copy_of_codebar_workshop_tasks_1_2_and_3.ipynb\" target=\"_parent\"><img src=\"https://colab.research.google.com/assets/colab-badge.svg\" alt=\"Open In Colab\"/></a>"
      ]
    },
    {
      "cell_type": "markdown",
      "source": [
        "# Code for Living (Python for Data Engineering)"
      ],
      "metadata": {
        "id": "NalAJsHGvWab"
      }
    },
    {
      "cell_type": "markdown",
      "source": [
        "In this session we’ll be taking a look at harnessing the power of data to aid decision making for things like groceries and everyday purchases. We’ll get hands on with sourcing and making sense of the data, and then using it to answer some interesting questions, using techniques from fields like optimisation and machine learning."
      ],
      "metadata": {
        "id": "JgRY-jJxvckc"
      }
    },
    {
      "cell_type": "markdown",
      "source": [
        "### Tasks:\n",
        "1. Find the cheapest supermarket for a given shopping basket\n",
        "2. Find out if you would be able to save oney by shopping at more than one supermarket.\n",
        "3. Using a second dataset and a ML (Machine Learning) model, come up with a cheap basket that is also nutritionally better. (Optional)\n",
        "4. Create a function that is able to recommend similar items in the basket that may be better nutritionally. (Optional)"
      ],
      "metadata": {
        "id": "ivk62-P3NMYP"
      }
    },
    {
      "cell_type": "markdown",
      "source": [
        "### Before you start:\n",
        "Run the command below to download the data needed for this exercise; There should be three .csv files downloaded: \n",
        "\n",
        "*   products.csv\n",
        "*   prices.csv\n",
        "*   nutrition_small.csv.gz\n",
        "\n",
        "NOTE: A command (sometimes abbrieviated as cmd) is a way for users to send \n",
        "instructions to the computer for it to process. In this case, the cmd is asking the computer to copy the files from this location in github, into this exercise"
      ],
      "metadata": {
        "id": "1Ff1H7KJwXBd"
      }
    },
    {
      "cell_type": "code",
      "source": [
        "!git clone https://github.com/itsvipa/ctm-codebar-nov-22-planning.git"
      ],
      "metadata": {
        "colab": {
          "base_uri": "https://localhost:8080/"
        },
        "id": "eQTfIYOryNPj",
        "outputId": "62380b79-462e-404e-c75d-c2b918dd10d2"
      },
      "execution_count": 4,
      "outputs": [
        {
          "output_type": "stream",
          "name": "stdout",
          "text": [
            "Cloning into 'ctm-codebar-nov-22-planning'...\n",
            "remote: Enumerating objects: 41, done.\u001b[K\n",
            "remote: Counting objects: 100% (41/41), done.\u001b[K\n",
            "remote: Compressing objects: 100% (38/38), done.\u001b[K\n",
            "remote: Total 41 (delta 19), reused 7 (delta 2), pack-reused 0\u001b[K\n",
            "Unpacking objects: 100% (41/41), done.\n"
          ]
        }
      ]
    },
    {
      "cell_type": "markdown",
      "source": [
        "## Task One - Find the cheapest supermarket for your groceries\n",
        "\n",
        "First, import pandas into your program:"
      ],
      "metadata": {
        "id": "iE-ghUvQvk7y"
      }
    },
    {
      "cell_type": "code",
      "source": [
        "import pandas as pd"
      ],
      "metadata": {
        "id": "0vST9NFmwH2X"
      },
      "execution_count": 5,
      "outputs": []
    },
    {
      "cell_type": "markdown",
      "source": [
        "Pandas is a python library that is used for data manipulation and analysis by data into DataFrames this data can be in the form of dictionaries, TSVs CSVs and more. More info on Pandas can be found at https://pandas.pydata.org/ and https://realpython.com/pandas-read-write-files/ \n",
        "\n",
        "\n",
        "Then items in the basket being used for this exercise are:"
      ],
      "metadata": {
        "id": "4O8JTpymT-kU"
      }
    },
    {
      "cell_type": "code",
      "source": [
        "basket = [\n",
        "    [28798, \"Tetley Original Tea Bags x240\"], \n",
        "    [34398, \"Cravendale Whole Milk\"],\n",
        "    [30904, \"Kellogg's Rice Krispies\"],\n",
        "    [26457,\t\"Tropicana Pineapple Juice\"],\n",
        "    [28095, \"Diet Coke Bottles\"],\n",
        "    [33442, \"Loyd Grossman Tomato & Basil Pasta Sauce\"],\n",
        "    [27161,\t\"Strings & Things Cheestrings Cheese Snack\"],\n",
        "    [31863,\t\"Mars 4 pack Ice Cream Bars\"],\n",
        "    [32002,\t\"Tilda Microwave Coconut Basmati Rice\"],\n",
        "    [86547,\t\"Knorr Chicken Stock Pot 4 Pack\"],\n",
        "    [84095,\t\"Arla skyr Fat Free Natural Yogurt\"],\n",
        "    [33255,\t\"Alpro Almond Long Life Drink\"],\n",
        "    [43809,\t\"Energizer Max 9V Batteries\"],\n",
        "    [25828,\t\"Robinsons Crushed Lime & Mint Fruit Cordial\"],\n",
        "    [32248,\t\"Sensations Balsamic Vinegar & Caramelised Onion Sharing Crisps\"],\n",
        "    [47361,\t\"Lynx Africa Body Spray Deodorant Aerosol\"],\n",
        "    [32774,\t\"Heinz Spaghetti\"],\n",
        "    [92101,\t\"Chicago Town Cheese Pizza Tomato Stuffed Crust Takeaway\"],\n",
        "    [110105, \"McCain Home Chips Straight\"],\n",
        "    [44797,\t\"Fairy Original Washing Up Liquid\"],\n",
        "    [40915,\t\"Fairy Non Bio Washing Liquid for Sensitive Skin 1.33L 38 Washes\t\"],\n",
        "    [24091,\t\"Nissin Soba Yakitori Noodles\"],\n",
        "    [42002,\t\"Yakult Yogurt Drink\"],\t\n",
        "    [83092,\t\"Jammie Dodgers\"],\n",
        "    [20272,\t\"Quorn Vegan Chicken Free Slices 100G\"],\t\n",
        "    [33492,\t\"Linda McCartney's Mozzarella Quarter Pounder Burger\"],\n",
        "    [51657,\t\"Purina ONE Adult Dry Cat Food Chicken & Wholegrains\"],\n",
        "    [24341,\t\"Birds Eye 4 Original Beef Burgers With Onions\"],\n",
        "    [109986, \"Cathedral City Lighter Mature Cheese\"],\n",
        "    [27526,\t\"Filippo Berio Mild & Light Olive Oil\"],\n",
        "    [45238, \"Bfree Pitta Breads Stone Baked Pittas\"]\n",
        "    ]\n",
        "\n",
        "print(len(basket))"
      ],
      "metadata": {
        "id": "bM1jXslF--ie",
        "colab": {
          "base_uri": "https://localhost:8080/"
        },
        "outputId": "1d5ab78f-df94-43bf-d0fe-eff5bb6f09d3"
      },
      "execution_count": 6,
      "outputs": [
        {
          "output_type": "stream",
          "name": "stdout",
          "text": [
            "31\n"
          ]
        }
      ]
    },
    {
      "cell_type": "markdown",
      "source": [
        "### Load the data \n",
        "\n",
        "The first stept to get price create two DataFrames for the product and price.\n",
        "\n",
        "product.csv should contain information on the product name, the quantity,the product id etc\n",
        "\n",
        "price.csv should contain infomation on the product price, the supermarket name, the product name etc\n",
        "\n",
        "A pandas DataFrame is very similar to an excel spreadsheet or a table in a database.\n",
        "\n"
      ],
      "metadata": {
        "id": "x-hRRrd1UCUb"
      }
    },
    {
      "cell_type": "code",
      "source": [
        "product_df = pd.read_csv(\"/content/ctm-codebar-nov-22-planning/products.csv\")\n",
        "price_df = pd.read_csv(\"/content/ctm-codebar-nov-22-planning/prices.csv\")"
      ],
      "metadata": {
        "id": "0NAOcdiTQZ9M"
      },
      "execution_count": 7,
      "outputs": []
    },
    {
      "cell_type": "markdown",
      "source": [
        "To show what the DataFrame actually looks like, we can just call the dataframe, like below"
      ],
      "metadata": {
        "id": "MntNAmXAULn_"
      }
    },
    {
      "cell_type": "code",
      "source": [
        "product_df"
      ],
      "metadata": {
        "colab": {
          "base_uri": "https://localhost:8080/",
          "height": 423
        },
        "id": "Tu-tMTxjQoEt",
        "outputId": "73cd1af5-8388-4e46-df1a-434b5ccd7592"
      },
      "execution_count": 8,
      "outputs": [
        {
          "output_type": "execute_result",
          "data": {
            "text/plain": [
              "           id                                               name  \\\n",
              "0       20100                              Lucozade Sport Orange   \n",
              "1       20101                                 Red Bull Sugarfree   \n",
              "2       20102  All Shook Up Spritz Pink Grapefruit & Lavender...   \n",
              "3       20103                              Gatorade Orange 500ml   \n",
              "4       20104             Purdeys Rejuvenation Fruit Drink 330Ml   \n",
              "...       ...                                                ...   \n",
              "81665  149214                  TRIP CBD Infused Elderflower Mint   \n",
              "81666  149215                       TRIP CBD Infused Lemon Basil   \n",
              "81667  149216                      TRIP CBD Infused Peach Ginger   \n",
              "81668  149596                      Smirnoff Red Label Vodka 35cl   \n",
              "81669  149690             Dash Detangling Panda Animal Hairbrush   \n",
              "\n",
              "       measure_quantity measure_amount measure_unit  \\\n",
              "0                   NaN            750           ml   \n",
              "1                   NaN            473           ml   \n",
              "2                   NaN            NaN          NaN   \n",
              "3                   NaN            NaN          NaN   \n",
              "4                   NaN            330           ml   \n",
              "...                 ...            ...          ...   \n",
              "81665               NaN            250           ml   \n",
              "81666               NaN            250           ml   \n",
              "81667               NaN            250           ml   \n",
              "81668               NaN            350           ml   \n",
              "81669               NaN            NaN          NaN   \n",
              "\n",
              "                                                    skus  price_count  \n",
              "0             ['302012236', '50368011', '1000273982470']            1  \n",
              "1                  ['298026024', '7922076', '576040011']            3  \n",
              "2                                          ['305986034']            0  \n",
              "3                               ['287043066', '8008530']            0  \n",
              "4      ['272855015', '7720116', '14533011', '34395901...            3  \n",
              "...                                                  ...          ...  \n",
              "81665                           ['8040121', '563191011']            2  \n",
              "81666                           ['8040125', '563190011']            2  \n",
              "81667                           ['8040137', '563192011']            2  \n",
              "81668              ['256554689', '2412368', '119513011']            2  \n",
              "81669                                      ['299296554']            1  \n",
              "\n",
              "[81670 rows x 7 columns]"
            ],
            "text/html": [
              "\n",
              "  <div id=\"df-399cee85-5962-40c9-8ddd-03f59fdacd90\">\n",
              "    <div class=\"colab-df-container\">\n",
              "      <div>\n",
              "<style scoped>\n",
              "    .dataframe tbody tr th:only-of-type {\n",
              "        vertical-align: middle;\n",
              "    }\n",
              "\n",
              "    .dataframe tbody tr th {\n",
              "        vertical-align: top;\n",
              "    }\n",
              "\n",
              "    .dataframe thead th {\n",
              "        text-align: right;\n",
              "    }\n",
              "</style>\n",
              "<table border=\"1\" class=\"dataframe\">\n",
              "  <thead>\n",
              "    <tr style=\"text-align: right;\">\n",
              "      <th></th>\n",
              "      <th>id</th>\n",
              "      <th>name</th>\n",
              "      <th>measure_quantity</th>\n",
              "      <th>measure_amount</th>\n",
              "      <th>measure_unit</th>\n",
              "      <th>skus</th>\n",
              "      <th>price_count</th>\n",
              "    </tr>\n",
              "  </thead>\n",
              "  <tbody>\n",
              "    <tr>\n",
              "      <th>0</th>\n",
              "      <td>20100</td>\n",
              "      <td>Lucozade Sport Orange</td>\n",
              "      <td>NaN</td>\n",
              "      <td>750</td>\n",
              "      <td>ml</td>\n",
              "      <td>['302012236', '50368011', '1000273982470']</td>\n",
              "      <td>1</td>\n",
              "    </tr>\n",
              "    <tr>\n",
              "      <th>1</th>\n",
              "      <td>20101</td>\n",
              "      <td>Red Bull Sugarfree</td>\n",
              "      <td>NaN</td>\n",
              "      <td>473</td>\n",
              "      <td>ml</td>\n",
              "      <td>['298026024', '7922076', '576040011']</td>\n",
              "      <td>3</td>\n",
              "    </tr>\n",
              "    <tr>\n",
              "      <th>2</th>\n",
              "      <td>20102</td>\n",
              "      <td>All Shook Up Spritz Pink Grapefruit &amp; Lavender...</td>\n",
              "      <td>NaN</td>\n",
              "      <td>NaN</td>\n",
              "      <td>NaN</td>\n",
              "      <td>['305986034']</td>\n",
              "      <td>0</td>\n",
              "    </tr>\n",
              "    <tr>\n",
              "      <th>3</th>\n",
              "      <td>20103</td>\n",
              "      <td>Gatorade Orange 500ml</td>\n",
              "      <td>NaN</td>\n",
              "      <td>NaN</td>\n",
              "      <td>NaN</td>\n",
              "      <td>['287043066', '8008530']</td>\n",
              "      <td>0</td>\n",
              "    </tr>\n",
              "    <tr>\n",
              "      <th>4</th>\n",
              "      <td>20104</td>\n",
              "      <td>Purdeys Rejuvenation Fruit Drink 330Ml</td>\n",
              "      <td>NaN</td>\n",
              "      <td>330</td>\n",
              "      <td>ml</td>\n",
              "      <td>['272855015', '7720116', '14533011', '34395901...</td>\n",
              "      <td>3</td>\n",
              "    </tr>\n",
              "    <tr>\n",
              "      <th>...</th>\n",
              "      <td>...</td>\n",
              "      <td>...</td>\n",
              "      <td>...</td>\n",
              "      <td>...</td>\n",
              "      <td>...</td>\n",
              "      <td>...</td>\n",
              "      <td>...</td>\n",
              "    </tr>\n",
              "    <tr>\n",
              "      <th>81665</th>\n",
              "      <td>149214</td>\n",
              "      <td>TRIP CBD Infused Elderflower Mint</td>\n",
              "      <td>NaN</td>\n",
              "      <td>250</td>\n",
              "      <td>ml</td>\n",
              "      <td>['8040121', '563191011']</td>\n",
              "      <td>2</td>\n",
              "    </tr>\n",
              "    <tr>\n",
              "      <th>81666</th>\n",
              "      <td>149215</td>\n",
              "      <td>TRIP CBD Infused Lemon Basil</td>\n",
              "      <td>NaN</td>\n",
              "      <td>250</td>\n",
              "      <td>ml</td>\n",
              "      <td>['8040125', '563190011']</td>\n",
              "      <td>2</td>\n",
              "    </tr>\n",
              "    <tr>\n",
              "      <th>81667</th>\n",
              "      <td>149216</td>\n",
              "      <td>TRIP CBD Infused Peach Ginger</td>\n",
              "      <td>NaN</td>\n",
              "      <td>250</td>\n",
              "      <td>ml</td>\n",
              "      <td>['8040137', '563192011']</td>\n",
              "      <td>2</td>\n",
              "    </tr>\n",
              "    <tr>\n",
              "      <th>81668</th>\n",
              "      <td>149596</td>\n",
              "      <td>Smirnoff Red Label Vodka 35cl</td>\n",
              "      <td>NaN</td>\n",
              "      <td>350</td>\n",
              "      <td>ml</td>\n",
              "      <td>['256554689', '2412368', '119513011']</td>\n",
              "      <td>2</td>\n",
              "    </tr>\n",
              "    <tr>\n",
              "      <th>81669</th>\n",
              "      <td>149690</td>\n",
              "      <td>Dash Detangling Panda Animal Hairbrush</td>\n",
              "      <td>NaN</td>\n",
              "      <td>NaN</td>\n",
              "      <td>NaN</td>\n",
              "      <td>['299296554']</td>\n",
              "      <td>1</td>\n",
              "    </tr>\n",
              "  </tbody>\n",
              "</table>\n",
              "<p>81670 rows × 7 columns</p>\n",
              "</div>\n",
              "      <button class=\"colab-df-convert\" onclick=\"convertToInteractive('df-399cee85-5962-40c9-8ddd-03f59fdacd90')\"\n",
              "              title=\"Convert this dataframe to an interactive table.\"\n",
              "              style=\"display:none;\">\n",
              "        \n",
              "  <svg xmlns=\"http://www.w3.org/2000/svg\" height=\"24px\"viewBox=\"0 0 24 24\"\n",
              "       width=\"24px\">\n",
              "    <path d=\"M0 0h24v24H0V0z\" fill=\"none\"/>\n",
              "    <path d=\"M18.56 5.44l.94 2.06.94-2.06 2.06-.94-2.06-.94-.94-2.06-.94 2.06-2.06.94zm-11 1L8.5 8.5l.94-2.06 2.06-.94-2.06-.94L8.5 2.5l-.94 2.06-2.06.94zm10 10l.94 2.06.94-2.06 2.06-.94-2.06-.94-.94-2.06-.94 2.06-2.06.94z\"/><path d=\"M17.41 7.96l-1.37-1.37c-.4-.4-.92-.59-1.43-.59-.52 0-1.04.2-1.43.59L10.3 9.45l-7.72 7.72c-.78.78-.78 2.05 0 2.83L4 21.41c.39.39.9.59 1.41.59.51 0 1.02-.2 1.41-.59l7.78-7.78 2.81-2.81c.8-.78.8-2.07 0-2.86zM5.41 20L4 18.59l7.72-7.72 1.47 1.35L5.41 20z\"/>\n",
              "  </svg>\n",
              "      </button>\n",
              "      \n",
              "  <style>\n",
              "    .colab-df-container {\n",
              "      display:flex;\n",
              "      flex-wrap:wrap;\n",
              "      gap: 12px;\n",
              "    }\n",
              "\n",
              "    .colab-df-convert {\n",
              "      background-color: #E8F0FE;\n",
              "      border: none;\n",
              "      border-radius: 50%;\n",
              "      cursor: pointer;\n",
              "      display: none;\n",
              "      fill: #1967D2;\n",
              "      height: 32px;\n",
              "      padding: 0 0 0 0;\n",
              "      width: 32px;\n",
              "    }\n",
              "\n",
              "    .colab-df-convert:hover {\n",
              "      background-color: #E2EBFA;\n",
              "      box-shadow: 0px 1px 2px rgba(60, 64, 67, 0.3), 0px 1px 3px 1px rgba(60, 64, 67, 0.15);\n",
              "      fill: #174EA6;\n",
              "    }\n",
              "\n",
              "    [theme=dark] .colab-df-convert {\n",
              "      background-color: #3B4455;\n",
              "      fill: #D2E3FC;\n",
              "    }\n",
              "\n",
              "    [theme=dark] .colab-df-convert:hover {\n",
              "      background-color: #434B5C;\n",
              "      box-shadow: 0px 1px 3px 1px rgba(0, 0, 0, 0.15);\n",
              "      filter: drop-shadow(0px 1px 2px rgba(0, 0, 0, 0.3));\n",
              "      fill: #FFFFFF;\n",
              "    }\n",
              "  </style>\n",
              "\n",
              "      <script>\n",
              "        const buttonEl =\n",
              "          document.querySelector('#df-399cee85-5962-40c9-8ddd-03f59fdacd90 button.colab-df-convert');\n",
              "        buttonEl.style.display =\n",
              "          google.colab.kernel.accessAllowed ? 'block' : 'none';\n",
              "\n",
              "        async function convertToInteractive(key) {\n",
              "          const element = document.querySelector('#df-399cee85-5962-40c9-8ddd-03f59fdacd90');\n",
              "          const dataTable =\n",
              "            await google.colab.kernel.invokeFunction('convertToInteractive',\n",
              "                                                     [key], {});\n",
              "          if (!dataTable) return;\n",
              "\n",
              "          const docLinkHtml = 'Like what you see? Visit the ' +\n",
              "            '<a target=\"_blank\" href=https://colab.research.google.com/notebooks/data_table.ipynb>data table notebook</a>'\n",
              "            + ' to learn more about interactive tables.';\n",
              "          element.innerHTML = '';\n",
              "          dataTable['output_type'] = 'display_data';\n",
              "          await google.colab.output.renderOutput(dataTable, element);\n",
              "          const docLink = document.createElement('div');\n",
              "          docLink.innerHTML = docLinkHtml;\n",
              "          element.appendChild(docLink);\n",
              "        }\n",
              "      </script>\n",
              "    </div>\n",
              "  </div>\n",
              "  "
            ]
          },
          "metadata": {},
          "execution_count": 8
        }
      ]
    },
    {
      "cell_type": "markdown",
      "source": [
        "Try and call the price_df DataFrame and have a look at some of the data. Can you see any similaries between the two?"
      ],
      "metadata": {
        "id": "GfUZA_lMUQka"
      }
    },
    {
      "cell_type": "code",
      "source": [
        "price_df"
      ],
      "metadata": {
        "colab": {
          "base_uri": "https://localhost:8080/",
          "height": 423
        },
        "id": "vgMIdVt5Qryo",
        "outputId": "3f72cfbd-2290-4903-d5b9-508f7874b72d"
      },
      "execution_count": 9,
      "outputs": [
        {
          "output_type": "execute_result",
          "data": {
            "text/plain": [
              "           id                                    name    retailer available  \\\n",
              "0       20100                   Lucozade Sport Orange        asda      True   \n",
              "1       20101                      Red Bull Sugarfree   morrisons      True   \n",
              "2       20101                      Red Bull Sugarfree  sainsburys      True   \n",
              "3       20101                      Red Bull Sugarfree       tesco     False   \n",
              "4       20104  Purdeys Rejuvenation Fruit Drink 330Ml  sainsburys      True   \n",
              "...       ...                                     ...         ...       ...   \n",
              "94855  149216           TRIP CBD Infused Peach Ginger       ocado      True   \n",
              "94856  149216           TRIP CBD Infused Peach Ginger  sainsburys      True   \n",
              "94857  149596           Smirnoff Red Label Vodka 35cl       tesco      True   \n",
              "94858  149596           Smirnoff Red Label Vodka 35cl  sainsburys      True   \n",
              "94859  149690  Dash Detangling Panda Animal Hairbrush       tesco      True   \n",
              "\n",
              "       price  price_per_unit  price_unit_amount price_unit  \\\n",
              "0       1.25            0.17              100.0         ml   \n",
              "1       2.30            0.49              100.0         ml   \n",
              "2       2.30            0.49              100.0         ml   \n",
              "3       3.40            0.49              100.0         ml   \n",
              "4       1.40            0.42              100.0         ml   \n",
              "...      ...             ...                ...        ...   \n",
              "94855   2.00            0.80              100.0         ml   \n",
              "94856   2.00            0.80              100.0         ml   \n",
              "94857  10.00            2.86              100.0         ml   \n",
              "94858  10.50            3.00              100.0         ml   \n",
              "94859   6.50            6.50                1.0       each   \n",
              "\n",
              "                     crawl_date  \n",
              "0      2022-10-26T15:00:00.000Z  \n",
              "1      2022-10-26T18:00:00.000Z  \n",
              "2      2022-10-26T11:00:00.000Z  \n",
              "3      2022-10-26T14:00:00.000Z  \n",
              "4      2022-10-26T12:00:00.000Z  \n",
              "...                         ...  \n",
              "94855  2022-10-26T14:00:00.000Z  \n",
              "94856  2022-10-26T12:00:00.000Z  \n",
              "94857  2022-10-26T10:00:00.000Z  \n",
              "94858  2022-10-26T11:00:00.000Z  \n",
              "94859  2022-10-26T10:00:00.000Z  \n",
              "\n",
              "[94860 rows x 9 columns]"
            ],
            "text/html": [
              "\n",
              "  <div id=\"df-0d9ecead-83d3-47f6-b130-16af9ce5245f\">\n",
              "    <div class=\"colab-df-container\">\n",
              "      <div>\n",
              "<style scoped>\n",
              "    .dataframe tbody tr th:only-of-type {\n",
              "        vertical-align: middle;\n",
              "    }\n",
              "\n",
              "    .dataframe tbody tr th {\n",
              "        vertical-align: top;\n",
              "    }\n",
              "\n",
              "    .dataframe thead th {\n",
              "        text-align: right;\n",
              "    }\n",
              "</style>\n",
              "<table border=\"1\" class=\"dataframe\">\n",
              "  <thead>\n",
              "    <tr style=\"text-align: right;\">\n",
              "      <th></th>\n",
              "      <th>id</th>\n",
              "      <th>name</th>\n",
              "      <th>retailer</th>\n",
              "      <th>available</th>\n",
              "      <th>price</th>\n",
              "      <th>price_per_unit</th>\n",
              "      <th>price_unit_amount</th>\n",
              "      <th>price_unit</th>\n",
              "      <th>crawl_date</th>\n",
              "    </tr>\n",
              "  </thead>\n",
              "  <tbody>\n",
              "    <tr>\n",
              "      <th>0</th>\n",
              "      <td>20100</td>\n",
              "      <td>Lucozade Sport Orange</td>\n",
              "      <td>asda</td>\n",
              "      <td>True</td>\n",
              "      <td>1.25</td>\n",
              "      <td>0.17</td>\n",
              "      <td>100.0</td>\n",
              "      <td>ml</td>\n",
              "      <td>2022-10-26T15:00:00.000Z</td>\n",
              "    </tr>\n",
              "    <tr>\n",
              "      <th>1</th>\n",
              "      <td>20101</td>\n",
              "      <td>Red Bull Sugarfree</td>\n",
              "      <td>morrisons</td>\n",
              "      <td>True</td>\n",
              "      <td>2.30</td>\n",
              "      <td>0.49</td>\n",
              "      <td>100.0</td>\n",
              "      <td>ml</td>\n",
              "      <td>2022-10-26T18:00:00.000Z</td>\n",
              "    </tr>\n",
              "    <tr>\n",
              "      <th>2</th>\n",
              "      <td>20101</td>\n",
              "      <td>Red Bull Sugarfree</td>\n",
              "      <td>sainsburys</td>\n",
              "      <td>True</td>\n",
              "      <td>2.30</td>\n",
              "      <td>0.49</td>\n",
              "      <td>100.0</td>\n",
              "      <td>ml</td>\n",
              "      <td>2022-10-26T11:00:00.000Z</td>\n",
              "    </tr>\n",
              "    <tr>\n",
              "      <th>3</th>\n",
              "      <td>20101</td>\n",
              "      <td>Red Bull Sugarfree</td>\n",
              "      <td>tesco</td>\n",
              "      <td>False</td>\n",
              "      <td>3.40</td>\n",
              "      <td>0.49</td>\n",
              "      <td>100.0</td>\n",
              "      <td>ml</td>\n",
              "      <td>2022-10-26T14:00:00.000Z</td>\n",
              "    </tr>\n",
              "    <tr>\n",
              "      <th>4</th>\n",
              "      <td>20104</td>\n",
              "      <td>Purdeys Rejuvenation Fruit Drink 330Ml</td>\n",
              "      <td>sainsburys</td>\n",
              "      <td>True</td>\n",
              "      <td>1.40</td>\n",
              "      <td>0.42</td>\n",
              "      <td>100.0</td>\n",
              "      <td>ml</td>\n",
              "      <td>2022-10-26T12:00:00.000Z</td>\n",
              "    </tr>\n",
              "    <tr>\n",
              "      <th>...</th>\n",
              "      <td>...</td>\n",
              "      <td>...</td>\n",
              "      <td>...</td>\n",
              "      <td>...</td>\n",
              "      <td>...</td>\n",
              "      <td>...</td>\n",
              "      <td>...</td>\n",
              "      <td>...</td>\n",
              "      <td>...</td>\n",
              "    </tr>\n",
              "    <tr>\n",
              "      <th>94855</th>\n",
              "      <td>149216</td>\n",
              "      <td>TRIP CBD Infused Peach Ginger</td>\n",
              "      <td>ocado</td>\n",
              "      <td>True</td>\n",
              "      <td>2.00</td>\n",
              "      <td>0.80</td>\n",
              "      <td>100.0</td>\n",
              "      <td>ml</td>\n",
              "      <td>2022-10-26T14:00:00.000Z</td>\n",
              "    </tr>\n",
              "    <tr>\n",
              "      <th>94856</th>\n",
              "      <td>149216</td>\n",
              "      <td>TRIP CBD Infused Peach Ginger</td>\n",
              "      <td>sainsburys</td>\n",
              "      <td>True</td>\n",
              "      <td>2.00</td>\n",
              "      <td>0.80</td>\n",
              "      <td>100.0</td>\n",
              "      <td>ml</td>\n",
              "      <td>2022-10-26T12:00:00.000Z</td>\n",
              "    </tr>\n",
              "    <tr>\n",
              "      <th>94857</th>\n",
              "      <td>149596</td>\n",
              "      <td>Smirnoff Red Label Vodka 35cl</td>\n",
              "      <td>tesco</td>\n",
              "      <td>True</td>\n",
              "      <td>10.00</td>\n",
              "      <td>2.86</td>\n",
              "      <td>100.0</td>\n",
              "      <td>ml</td>\n",
              "      <td>2022-10-26T10:00:00.000Z</td>\n",
              "    </tr>\n",
              "    <tr>\n",
              "      <th>94858</th>\n",
              "      <td>149596</td>\n",
              "      <td>Smirnoff Red Label Vodka 35cl</td>\n",
              "      <td>sainsburys</td>\n",
              "      <td>True</td>\n",
              "      <td>10.50</td>\n",
              "      <td>3.00</td>\n",
              "      <td>100.0</td>\n",
              "      <td>ml</td>\n",
              "      <td>2022-10-26T11:00:00.000Z</td>\n",
              "    </tr>\n",
              "    <tr>\n",
              "      <th>94859</th>\n",
              "      <td>149690</td>\n",
              "      <td>Dash Detangling Panda Animal Hairbrush</td>\n",
              "      <td>tesco</td>\n",
              "      <td>True</td>\n",
              "      <td>6.50</td>\n",
              "      <td>6.50</td>\n",
              "      <td>1.0</td>\n",
              "      <td>each</td>\n",
              "      <td>2022-10-26T10:00:00.000Z</td>\n",
              "    </tr>\n",
              "  </tbody>\n",
              "</table>\n",
              "<p>94860 rows × 9 columns</p>\n",
              "</div>\n",
              "      <button class=\"colab-df-convert\" onclick=\"convertToInteractive('df-0d9ecead-83d3-47f6-b130-16af9ce5245f')\"\n",
              "              title=\"Convert this dataframe to an interactive table.\"\n",
              "              style=\"display:none;\">\n",
              "        \n",
              "  <svg xmlns=\"http://www.w3.org/2000/svg\" height=\"24px\"viewBox=\"0 0 24 24\"\n",
              "       width=\"24px\">\n",
              "    <path d=\"M0 0h24v24H0V0z\" fill=\"none\"/>\n",
              "    <path d=\"M18.56 5.44l.94 2.06.94-2.06 2.06-.94-2.06-.94-.94-2.06-.94 2.06-2.06.94zm-11 1L8.5 8.5l.94-2.06 2.06-.94-2.06-.94L8.5 2.5l-.94 2.06-2.06.94zm10 10l.94 2.06.94-2.06 2.06-.94-2.06-.94-.94-2.06-.94 2.06-2.06.94z\"/><path d=\"M17.41 7.96l-1.37-1.37c-.4-.4-.92-.59-1.43-.59-.52 0-1.04.2-1.43.59L10.3 9.45l-7.72 7.72c-.78.78-.78 2.05 0 2.83L4 21.41c.39.39.9.59 1.41.59.51 0 1.02-.2 1.41-.59l7.78-7.78 2.81-2.81c.8-.78.8-2.07 0-2.86zM5.41 20L4 18.59l7.72-7.72 1.47 1.35L5.41 20z\"/>\n",
              "  </svg>\n",
              "      </button>\n",
              "      \n",
              "  <style>\n",
              "    .colab-df-container {\n",
              "      display:flex;\n",
              "      flex-wrap:wrap;\n",
              "      gap: 12px;\n",
              "    }\n",
              "\n",
              "    .colab-df-convert {\n",
              "      background-color: #E8F0FE;\n",
              "      border: none;\n",
              "      border-radius: 50%;\n",
              "      cursor: pointer;\n",
              "      display: none;\n",
              "      fill: #1967D2;\n",
              "      height: 32px;\n",
              "      padding: 0 0 0 0;\n",
              "      width: 32px;\n",
              "    }\n",
              "\n",
              "    .colab-df-convert:hover {\n",
              "      background-color: #E2EBFA;\n",
              "      box-shadow: 0px 1px 2px rgba(60, 64, 67, 0.3), 0px 1px 3px 1px rgba(60, 64, 67, 0.15);\n",
              "      fill: #174EA6;\n",
              "    }\n",
              "\n",
              "    [theme=dark] .colab-df-convert {\n",
              "      background-color: #3B4455;\n",
              "      fill: #D2E3FC;\n",
              "    }\n",
              "\n",
              "    [theme=dark] .colab-df-convert:hover {\n",
              "      background-color: #434B5C;\n",
              "      box-shadow: 0px 1px 3px 1px rgba(0, 0, 0, 0.15);\n",
              "      filter: drop-shadow(0px 1px 2px rgba(0, 0, 0, 0.3));\n",
              "      fill: #FFFFFF;\n",
              "    }\n",
              "  </style>\n",
              "\n",
              "      <script>\n",
              "        const buttonEl =\n",
              "          document.querySelector('#df-0d9ecead-83d3-47f6-b130-16af9ce5245f button.colab-df-convert');\n",
              "        buttonEl.style.display =\n",
              "          google.colab.kernel.accessAllowed ? 'block' : 'none';\n",
              "\n",
              "        async function convertToInteractive(key) {\n",
              "          const element = document.querySelector('#df-0d9ecead-83d3-47f6-b130-16af9ce5245f');\n",
              "          const dataTable =\n",
              "            await google.colab.kernel.invokeFunction('convertToInteractive',\n",
              "                                                     [key], {});\n",
              "          if (!dataTable) return;\n",
              "\n",
              "          const docLinkHtml = 'Like what you see? Visit the ' +\n",
              "            '<a target=\"_blank\" href=https://colab.research.google.com/notebooks/data_table.ipynb>data table notebook</a>'\n",
              "            + ' to learn more about interactive tables.';\n",
              "          element.innerHTML = '';\n",
              "          dataTable['output_type'] = 'display_data';\n",
              "          await google.colab.output.renderOutput(dataTable, element);\n",
              "          const docLink = document.createElement('div');\n",
              "          docLink.innerHTML = docLinkHtml;\n",
              "          element.appendChild(docLink);\n",
              "        }\n",
              "      </script>\n",
              "    </div>\n",
              "  </div>\n",
              "  "
            ]
          },
          "metadata": {},
          "execution_count": 9
        }
      ]
    },
    {
      "cell_type": "markdown",
      "source": [
        "### Get the basket ids\n",
        "\n",
        "The id column for both prices and product are the exact same. This means that the ids can be used to find the products and their price, within the price dataset. To do this, first a a list of the ids for the basket is needed"
      ],
      "metadata": {
        "id": "0WXQuyV0UTBG"
      }
    },
    {
      "cell_type": "markdown",
      "source": [
        "Using a for loop, get a list of the product ids from the basket object"
      ],
      "metadata": {
        "id": "pAgWjrTlUbln"
      }
    },
    {
      "cell_type": "code",
      "source": [
        "basket_ids = [i[0] for i in basket]\n",
        "\n"
      ],
      "metadata": {
        "id": "Q1k1V2Y9oDt2"
      },
      "execution_count": 10,
      "outputs": []
    },
    {
      "cell_type": "markdown",
      "source": [
        "Return the basket ids to check that the list is correct"
      ],
      "metadata": {
        "id": "ord61elDUliR"
      }
    },
    {
      "cell_type": "code",
      "source": [
        "basket_ids"
      ],
      "metadata": {
        "colab": {
          "base_uri": "https://localhost:8080/"
        },
        "id": "8otiQxrgUmz_",
        "outputId": "fac904d0-6aba-4893-83ca-15d863e0f96f"
      },
      "execution_count": 11,
      "outputs": [
        {
          "output_type": "execute_result",
          "data": {
            "text/plain": [
              "[28798,\n",
              " 34398,\n",
              " 30904,\n",
              " 26457,\n",
              " 28095,\n",
              " 33442,\n",
              " 27161,\n",
              " 31863,\n",
              " 32002,\n",
              " 86547,\n",
              " 84095,\n",
              " 33255,\n",
              " 43809,\n",
              " 25828,\n",
              " 32248,\n",
              " 47361,\n",
              " 32774,\n",
              " 92101,\n",
              " 110105,\n",
              " 44797,\n",
              " 40915,\n",
              " 24091,\n",
              " 42002,\n",
              " 83092,\n",
              " 20272,\n",
              " 33492,\n",
              " 51657,\n",
              " 24341,\n",
              " 109986,\n",
              " 27526,\n",
              " 45238]"
            ]
          },
          "metadata": {},
          "execution_count": 11
        }
      ]
    },
    {
      "cell_type": "markdown",
      "source": [
        "Using the list ids, the data can be filtered to create a DataFrame with just the items in the basket\n",
        "\n",
        "A new data frame called product_basket is created by looking at the product_df and picking the products that have ids that match the basket_ids list above"
      ],
      "metadata": {
        "id": "pY5T3E1kUumU"
      }
    },
    {
      "cell_type": "code",
      "source": [
        "product_basket = product_df[product_df['id'].isin(basket_ids)]"
      ],
      "metadata": {
        "id": "B0-aFZR3U8Q8"
      },
      "execution_count": 12,
      "outputs": []
    },
    {
      "cell_type": "code",
      "source": [
        "product_basket"
      ],
      "metadata": {
        "colab": {
          "base_uri": "https://localhost:8080/",
          "height": 1000
        },
        "id": "Be_xIuTzU9Hn",
        "outputId": "ef8c040a-df6f-449b-cc5f-b0201a576644"
      },
      "execution_count": 13,
      "outputs": [
        {
          "output_type": "execute_result",
          "data": {
            "text/plain": [
              "           id                                               name  \\\n",
              "171     20272               Quorn Vegan Chicken Free Slices 100G   \n",
              "3920    24091                       Nissin Soba Yakitori Noodles   \n",
              "4157    24341      Birds Eye 4 Original Beef Burgers With Onions   \n",
              "5577    25828        Robinsons Crushed Lime & Mint Fruit Cordial   \n",
              "6168    26457                          Tropicana Pineapple Juice   \n",
              "6829    27161          Strings & Things Cheestrings Cheese Snack   \n",
              "7170    27526               Filippo Berio Mild & Light Olive Oil   \n",
              "7700    28095                                  Diet Coke Bottles   \n",
              "8338    28798                      Tetley Original Tea Bags x240   \n",
              "10318   30904                            Kellogg's Rice Krispies   \n",
              "11196   31863                         Mars 4 pack Ice Cream Bars   \n",
              "11323   32002               Tilda Microwave Coconut Basmati Rice   \n",
              "11542   32248  Sensations Balsamic Vinegar & Caramelised Onio...   \n",
              "12017   32774                                    Heinz Spaghetti   \n",
              "12446   33255                       Alpro Almond Long Life Drink   \n",
              "12610   33442           Loyd Grossman Tomato & Basil Pasta Sauce   \n",
              "12650   33492  Linda McCartney's Mozzarella Quarter Pounder B...   \n",
              "13471   34398                              Cravendale Whole Milk   \n",
              "18639   40915  Fairy Non Bio Washing Liquid for Sensitive Ski...   \n",
              "19557   42002                                Yakult Yogurt Drink   \n",
              "20758   43809                        Energizer Max 9V Batteries    \n",
              "21425   44797                   Fairy Original Washing Up Liquid   \n",
              "21763   45238              Bfree Pitta Breads Stone Baked Pittas   \n",
              "23529   47361           Lynx Africa Body Spray Deodorant Aerosol   \n",
              "27026   51657  Purina ONE Adult Dry Cat Food Chicken & Wholeg...   \n",
              "43879   83092                                     Jammie Dodgers   \n",
              "44672   84095                  Arla skyr Fat Free Natural Yogurt   \n",
              "46671   86547                     Knorr Chicken Stock Pot 4 Pack   \n",
              "51152   92101  Chicago Town Cheese Pizza Tomato Stuffed Crust...   \n",
              "65633  109986               Cathedral City Lighter Mature Cheese   \n",
              "65724  110105                         McCain Home Chips Straight   \n",
              "\n",
              "       measure_quantity measure_amount measure_unit  \\\n",
              "171                 NaN            100            g   \n",
              "3920                NaN             89            g   \n",
              "4157                NaN            227            g   \n",
              "5577                NaN            500           ml   \n",
              "6168                NaN            850           ml   \n",
              "6829                8.0            160            g   \n",
              "7170                NaN            500           ml   \n",
              "7700                NaN           1000           ml   \n",
              "8338              240.0            750            g   \n",
              "10318               NaN            700            g   \n",
              "11196               4.0             51           ml   \n",
              "11323               NaN            250            g   \n",
              "11542               NaN            150            g   \n",
              "12017               NaN            400            g   \n",
              "12446               NaN           1000           ml   \n",
              "12610               NaN            350            g   \n",
              "12650               2.0            227            g   \n",
              "13471               NaN           2000           ml   \n",
              "18639               NaN           1.33       liters   \n",
              "19557               7.0             65           ml   \n",
              "20758               2.0              1         pack   \n",
              "21425               NaN            780           ml   \n",
              "21763               4.0             55            g   \n",
              "23529               NaN            150           ml   \n",
              "27026               NaN            800            g   \n",
              "43879               NaN            140            g   \n",
              "44672               NaN            450            g   \n",
              "46671               4.0             28            g   \n",
              "51152               NaN            630            g   \n",
              "65633               NaN            350            g   \n",
              "65724               NaN           1000            g   \n",
              "\n",
              "                                                    skus  price_count  \n",
              "171    ['1000036534591', '409621011', '300544928', '7...            7  \n",
              "3920   ['7880330', '358649011', '394012011', '9100030...            7  \n",
              "4157   ['39291', '111245011', '254750569', '7062745',...            7  \n",
              "5577   ['298026060', '7893476', '1000000581841', '395...            7  \n",
              "6168   ['287294534', '910001811525', '7736698', '2807...            7  \n",
              "6829   ['910000563392', '111504011', '273196994', '75...            8  \n",
              "7170   ['3817506', '33508011', '112993011', '25495826...            7  \n",
              "7700   ['252047858', '3723975', '20947011', '11392001...            7  \n",
              "8338   ['256093024', '3124932', '113676011', '32744',...            8  \n",
              "10318  ['910000396129', '7427688', '112094011', '2681...            7  \n",
              "11196  ['910000972162', '91269011', '289669011', '282...            7  \n",
              "11323  ['7644973', '64135011', '267224011', '91000078...            7  \n",
              "11542  ['7664931', '277029011', '267349622', '9100003...            7  \n",
              "12017  ['2500409', '12298011', '110710011', '19289', ...            7  \n",
              "12446  ['7544271', '66234011', '113614011', '27201251...            7  \n",
              "12610  ['2934105', '12165011', '114268011', '91000141...            7  \n",
              "12650  ['910000484385', '215750011', '91270011', '268...            7  \n",
              "13471  ['36887', '3216613', '24577011', '110037011', ...            7  \n",
              "18639  ['1000015060787', '94081011', '403471011', '14...            7  \n",
              "19557  ['20760', '2816388', '18301011', '116431011', ...            7  \n",
              "20758  ['7979560', '256748103', '1000156387281', '548...            7  \n",
              "21425  ['8022189', '292135011', '296835011', '2901519...            8  \n",
              "21763  ['910002101686', '332125011', '8031102', '2912...            7  \n",
              "23529  ['261546847', '6512453', '34082011', '11897401...            7  \n",
              "27026  ['257972929', '6025026', '26248011', '11683401...            7  \n",
              "43879  ['10225011', '112406011', '910001138365', '278...            7  \n",
              "44672  ['284806011', '281259011', '287960541', '91000...            7  \n",
              "46671  ['42461011', '113262011', '910000325479', '259...            7  \n",
              "51152  ['38664011', '120957011', '910000019103', '264...            7  \n",
              "65633  ['34747011', '210849011', '910000328893', '267...            7  \n",
              "65724  ['67802011', '517871011', '305975341', '100021...            7  "
            ],
            "text/html": [
              "\n",
              "  <div id=\"df-07614078-4daf-48f7-be80-fce8cbbb69ee\">\n",
              "    <div class=\"colab-df-container\">\n",
              "      <div>\n",
              "<style scoped>\n",
              "    .dataframe tbody tr th:only-of-type {\n",
              "        vertical-align: middle;\n",
              "    }\n",
              "\n",
              "    .dataframe tbody tr th {\n",
              "        vertical-align: top;\n",
              "    }\n",
              "\n",
              "    .dataframe thead th {\n",
              "        text-align: right;\n",
              "    }\n",
              "</style>\n",
              "<table border=\"1\" class=\"dataframe\">\n",
              "  <thead>\n",
              "    <tr style=\"text-align: right;\">\n",
              "      <th></th>\n",
              "      <th>id</th>\n",
              "      <th>name</th>\n",
              "      <th>measure_quantity</th>\n",
              "      <th>measure_amount</th>\n",
              "      <th>measure_unit</th>\n",
              "      <th>skus</th>\n",
              "      <th>price_count</th>\n",
              "    </tr>\n",
              "  </thead>\n",
              "  <tbody>\n",
              "    <tr>\n",
              "      <th>171</th>\n",
              "      <td>20272</td>\n",
              "      <td>Quorn Vegan Chicken Free Slices 100G</td>\n",
              "      <td>NaN</td>\n",
              "      <td>100</td>\n",
              "      <td>g</td>\n",
              "      <td>['1000036534591', '409621011', '300544928', '7...</td>\n",
              "      <td>7</td>\n",
              "    </tr>\n",
              "    <tr>\n",
              "      <th>3920</th>\n",
              "      <td>24091</td>\n",
              "      <td>Nissin Soba Yakitori Noodles</td>\n",
              "      <td>NaN</td>\n",
              "      <td>89</td>\n",
              "      <td>g</td>\n",
              "      <td>['7880330', '358649011', '394012011', '9100030...</td>\n",
              "      <td>7</td>\n",
              "    </tr>\n",
              "    <tr>\n",
              "      <th>4157</th>\n",
              "      <td>24341</td>\n",
              "      <td>Birds Eye 4 Original Beef Burgers With Onions</td>\n",
              "      <td>NaN</td>\n",
              "      <td>227</td>\n",
              "      <td>g</td>\n",
              "      <td>['39291', '111245011', '254750569', '7062745',...</td>\n",
              "      <td>7</td>\n",
              "    </tr>\n",
              "    <tr>\n",
              "      <th>5577</th>\n",
              "      <td>25828</td>\n",
              "      <td>Robinsons Crushed Lime &amp; Mint Fruit Cordial</td>\n",
              "      <td>NaN</td>\n",
              "      <td>500</td>\n",
              "      <td>ml</td>\n",
              "      <td>['298026060', '7893476', '1000000581841', '395...</td>\n",
              "      <td>7</td>\n",
              "    </tr>\n",
              "    <tr>\n",
              "      <th>6168</th>\n",
              "      <td>26457</td>\n",
              "      <td>Tropicana Pineapple Juice</td>\n",
              "      <td>NaN</td>\n",
              "      <td>850</td>\n",
              "      <td>ml</td>\n",
              "      <td>['287294534', '910001811525', '7736698', '2807...</td>\n",
              "      <td>7</td>\n",
              "    </tr>\n",
              "    <tr>\n",
              "      <th>6829</th>\n",
              "      <td>27161</td>\n",
              "      <td>Strings &amp; Things Cheestrings Cheese Snack</td>\n",
              "      <td>8.0</td>\n",
              "      <td>160</td>\n",
              "      <td>g</td>\n",
              "      <td>['910000563392', '111504011', '273196994', '75...</td>\n",
              "      <td>8</td>\n",
              "    </tr>\n",
              "    <tr>\n",
              "      <th>7170</th>\n",
              "      <td>27526</td>\n",
              "      <td>Filippo Berio Mild &amp; Light Olive Oil</td>\n",
              "      <td>NaN</td>\n",
              "      <td>500</td>\n",
              "      <td>ml</td>\n",
              "      <td>['3817506', '33508011', '112993011', '25495826...</td>\n",
              "      <td>7</td>\n",
              "    </tr>\n",
              "    <tr>\n",
              "      <th>7700</th>\n",
              "      <td>28095</td>\n",
              "      <td>Diet Coke Bottles</td>\n",
              "      <td>NaN</td>\n",
              "      <td>1000</td>\n",
              "      <td>ml</td>\n",
              "      <td>['252047858', '3723975', '20947011', '11392001...</td>\n",
              "      <td>7</td>\n",
              "    </tr>\n",
              "    <tr>\n",
              "      <th>8338</th>\n",
              "      <td>28798</td>\n",
              "      <td>Tetley Original Tea Bags x240</td>\n",
              "      <td>240.0</td>\n",
              "      <td>750</td>\n",
              "      <td>g</td>\n",
              "      <td>['256093024', '3124932', '113676011', '32744',...</td>\n",
              "      <td>8</td>\n",
              "    </tr>\n",
              "    <tr>\n",
              "      <th>10318</th>\n",
              "      <td>30904</td>\n",
              "      <td>Kellogg's Rice Krispies</td>\n",
              "      <td>NaN</td>\n",
              "      <td>700</td>\n",
              "      <td>g</td>\n",
              "      <td>['910000396129', '7427688', '112094011', '2681...</td>\n",
              "      <td>7</td>\n",
              "    </tr>\n",
              "    <tr>\n",
              "      <th>11196</th>\n",
              "      <td>31863</td>\n",
              "      <td>Mars 4 pack Ice Cream Bars</td>\n",
              "      <td>4.0</td>\n",
              "      <td>51</td>\n",
              "      <td>ml</td>\n",
              "      <td>['910000972162', '91269011', '289669011', '282...</td>\n",
              "      <td>7</td>\n",
              "    </tr>\n",
              "    <tr>\n",
              "      <th>11323</th>\n",
              "      <td>32002</td>\n",
              "      <td>Tilda Microwave Coconut Basmati Rice</td>\n",
              "      <td>NaN</td>\n",
              "      <td>250</td>\n",
              "      <td>g</td>\n",
              "      <td>['7644973', '64135011', '267224011', '91000078...</td>\n",
              "      <td>7</td>\n",
              "    </tr>\n",
              "    <tr>\n",
              "      <th>11542</th>\n",
              "      <td>32248</td>\n",
              "      <td>Sensations Balsamic Vinegar &amp; Caramelised Onio...</td>\n",
              "      <td>NaN</td>\n",
              "      <td>150</td>\n",
              "      <td>g</td>\n",
              "      <td>['7664931', '277029011', '267349622', '9100003...</td>\n",
              "      <td>7</td>\n",
              "    </tr>\n",
              "    <tr>\n",
              "      <th>12017</th>\n",
              "      <td>32774</td>\n",
              "      <td>Heinz Spaghetti</td>\n",
              "      <td>NaN</td>\n",
              "      <td>400</td>\n",
              "      <td>g</td>\n",
              "      <td>['2500409', '12298011', '110710011', '19289', ...</td>\n",
              "      <td>7</td>\n",
              "    </tr>\n",
              "    <tr>\n",
              "      <th>12446</th>\n",
              "      <td>33255</td>\n",
              "      <td>Alpro Almond Long Life Drink</td>\n",
              "      <td>NaN</td>\n",
              "      <td>1000</td>\n",
              "      <td>ml</td>\n",
              "      <td>['7544271', '66234011', '113614011', '27201251...</td>\n",
              "      <td>7</td>\n",
              "    </tr>\n",
              "    <tr>\n",
              "      <th>12610</th>\n",
              "      <td>33442</td>\n",
              "      <td>Loyd Grossman Tomato &amp; Basil Pasta Sauce</td>\n",
              "      <td>NaN</td>\n",
              "      <td>350</td>\n",
              "      <td>g</td>\n",
              "      <td>['2934105', '12165011', '114268011', '91000141...</td>\n",
              "      <td>7</td>\n",
              "    </tr>\n",
              "    <tr>\n",
              "      <th>12650</th>\n",
              "      <td>33492</td>\n",
              "      <td>Linda McCartney's Mozzarella Quarter Pounder B...</td>\n",
              "      <td>2.0</td>\n",
              "      <td>227</td>\n",
              "      <td>g</td>\n",
              "      <td>['910000484385', '215750011', '91270011', '268...</td>\n",
              "      <td>7</td>\n",
              "    </tr>\n",
              "    <tr>\n",
              "      <th>13471</th>\n",
              "      <td>34398</td>\n",
              "      <td>Cravendale Whole Milk</td>\n",
              "      <td>NaN</td>\n",
              "      <td>2000</td>\n",
              "      <td>ml</td>\n",
              "      <td>['36887', '3216613', '24577011', '110037011', ...</td>\n",
              "      <td>7</td>\n",
              "    </tr>\n",
              "    <tr>\n",
              "      <th>18639</th>\n",
              "      <td>40915</td>\n",
              "      <td>Fairy Non Bio Washing Liquid for Sensitive Ski...</td>\n",
              "      <td>NaN</td>\n",
              "      <td>1.33</td>\n",
              "      <td>liters</td>\n",
              "      <td>['1000015060787', '94081011', '403471011', '14...</td>\n",
              "      <td>7</td>\n",
              "    </tr>\n",
              "    <tr>\n",
              "      <th>19557</th>\n",
              "      <td>42002</td>\n",
              "      <td>Yakult Yogurt Drink</td>\n",
              "      <td>7.0</td>\n",
              "      <td>65</td>\n",
              "      <td>ml</td>\n",
              "      <td>['20760', '2816388', '18301011', '116431011', ...</td>\n",
              "      <td>7</td>\n",
              "    </tr>\n",
              "    <tr>\n",
              "      <th>20758</th>\n",
              "      <td>43809</td>\n",
              "      <td>Energizer Max 9V Batteries</td>\n",
              "      <td>2.0</td>\n",
              "      <td>1</td>\n",
              "      <td>pack</td>\n",
              "      <td>['7979560', '256748103', '1000156387281', '548...</td>\n",
              "      <td>7</td>\n",
              "    </tr>\n",
              "    <tr>\n",
              "      <th>21425</th>\n",
              "      <td>44797</td>\n",
              "      <td>Fairy Original Washing Up Liquid</td>\n",
              "      <td>NaN</td>\n",
              "      <td>780</td>\n",
              "      <td>ml</td>\n",
              "      <td>['8022189', '292135011', '296835011', '2901519...</td>\n",
              "      <td>8</td>\n",
              "    </tr>\n",
              "    <tr>\n",
              "      <th>21763</th>\n",
              "      <td>45238</td>\n",
              "      <td>Bfree Pitta Breads Stone Baked Pittas</td>\n",
              "      <td>4.0</td>\n",
              "      <td>55</td>\n",
              "      <td>g</td>\n",
              "      <td>['910002101686', '332125011', '8031102', '2912...</td>\n",
              "      <td>7</td>\n",
              "    </tr>\n",
              "    <tr>\n",
              "      <th>23529</th>\n",
              "      <td>47361</td>\n",
              "      <td>Lynx Africa Body Spray Deodorant Aerosol</td>\n",
              "      <td>NaN</td>\n",
              "      <td>150</td>\n",
              "      <td>ml</td>\n",
              "      <td>['261546847', '6512453', '34082011', '11897401...</td>\n",
              "      <td>7</td>\n",
              "    </tr>\n",
              "    <tr>\n",
              "      <th>27026</th>\n",
              "      <td>51657</td>\n",
              "      <td>Purina ONE Adult Dry Cat Food Chicken &amp; Wholeg...</td>\n",
              "      <td>NaN</td>\n",
              "      <td>800</td>\n",
              "      <td>g</td>\n",
              "      <td>['257972929', '6025026', '26248011', '11683401...</td>\n",
              "      <td>7</td>\n",
              "    </tr>\n",
              "    <tr>\n",
              "      <th>43879</th>\n",
              "      <td>83092</td>\n",
              "      <td>Jammie Dodgers</td>\n",
              "      <td>NaN</td>\n",
              "      <td>140</td>\n",
              "      <td>g</td>\n",
              "      <td>['10225011', '112406011', '910001138365', '278...</td>\n",
              "      <td>7</td>\n",
              "    </tr>\n",
              "    <tr>\n",
              "      <th>44672</th>\n",
              "      <td>84095</td>\n",
              "      <td>Arla skyr Fat Free Natural Yogurt</td>\n",
              "      <td>NaN</td>\n",
              "      <td>450</td>\n",
              "      <td>g</td>\n",
              "      <td>['284806011', '281259011', '287960541', '91000...</td>\n",
              "      <td>7</td>\n",
              "    </tr>\n",
              "    <tr>\n",
              "      <th>46671</th>\n",
              "      <td>86547</td>\n",
              "      <td>Knorr Chicken Stock Pot 4 Pack</td>\n",
              "      <td>4.0</td>\n",
              "      <td>28</td>\n",
              "      <td>g</td>\n",
              "      <td>['42461011', '113262011', '910000325479', '259...</td>\n",
              "      <td>7</td>\n",
              "    </tr>\n",
              "    <tr>\n",
              "      <th>51152</th>\n",
              "      <td>92101</td>\n",
              "      <td>Chicago Town Cheese Pizza Tomato Stuffed Crust...</td>\n",
              "      <td>NaN</td>\n",
              "      <td>630</td>\n",
              "      <td>g</td>\n",
              "      <td>['38664011', '120957011', '910000019103', '264...</td>\n",
              "      <td>7</td>\n",
              "    </tr>\n",
              "    <tr>\n",
              "      <th>65633</th>\n",
              "      <td>109986</td>\n",
              "      <td>Cathedral City Lighter Mature Cheese</td>\n",
              "      <td>NaN</td>\n",
              "      <td>350</td>\n",
              "      <td>g</td>\n",
              "      <td>['34747011', '210849011', '910000328893', '267...</td>\n",
              "      <td>7</td>\n",
              "    </tr>\n",
              "    <tr>\n",
              "      <th>65724</th>\n",
              "      <td>110105</td>\n",
              "      <td>McCain Home Chips Straight</td>\n",
              "      <td>NaN</td>\n",
              "      <td>1000</td>\n",
              "      <td>g</td>\n",
              "      <td>['67802011', '517871011', '305975341', '100021...</td>\n",
              "      <td>7</td>\n",
              "    </tr>\n",
              "  </tbody>\n",
              "</table>\n",
              "</div>\n",
              "      <button class=\"colab-df-convert\" onclick=\"convertToInteractive('df-07614078-4daf-48f7-be80-fce8cbbb69ee')\"\n",
              "              title=\"Convert this dataframe to an interactive table.\"\n",
              "              style=\"display:none;\">\n",
              "        \n",
              "  <svg xmlns=\"http://www.w3.org/2000/svg\" height=\"24px\"viewBox=\"0 0 24 24\"\n",
              "       width=\"24px\">\n",
              "    <path d=\"M0 0h24v24H0V0z\" fill=\"none\"/>\n",
              "    <path d=\"M18.56 5.44l.94 2.06.94-2.06 2.06-.94-2.06-.94-.94-2.06-.94 2.06-2.06.94zm-11 1L8.5 8.5l.94-2.06 2.06-.94-2.06-.94L8.5 2.5l-.94 2.06-2.06.94zm10 10l.94 2.06.94-2.06 2.06-.94-2.06-.94-.94-2.06-.94 2.06-2.06.94z\"/><path d=\"M17.41 7.96l-1.37-1.37c-.4-.4-.92-.59-1.43-.59-.52 0-1.04.2-1.43.59L10.3 9.45l-7.72 7.72c-.78.78-.78 2.05 0 2.83L4 21.41c.39.39.9.59 1.41.59.51 0 1.02-.2 1.41-.59l7.78-7.78 2.81-2.81c.8-.78.8-2.07 0-2.86zM5.41 20L4 18.59l7.72-7.72 1.47 1.35L5.41 20z\"/>\n",
              "  </svg>\n",
              "      </button>\n",
              "      \n",
              "  <style>\n",
              "    .colab-df-container {\n",
              "      display:flex;\n",
              "      flex-wrap:wrap;\n",
              "      gap: 12px;\n",
              "    }\n",
              "\n",
              "    .colab-df-convert {\n",
              "      background-color: #E8F0FE;\n",
              "      border: none;\n",
              "      border-radius: 50%;\n",
              "      cursor: pointer;\n",
              "      display: none;\n",
              "      fill: #1967D2;\n",
              "      height: 32px;\n",
              "      padding: 0 0 0 0;\n",
              "      width: 32px;\n",
              "    }\n",
              "\n",
              "    .colab-df-convert:hover {\n",
              "      background-color: #E2EBFA;\n",
              "      box-shadow: 0px 1px 2px rgba(60, 64, 67, 0.3), 0px 1px 3px 1px rgba(60, 64, 67, 0.15);\n",
              "      fill: #174EA6;\n",
              "    }\n",
              "\n",
              "    [theme=dark] .colab-df-convert {\n",
              "      background-color: #3B4455;\n",
              "      fill: #D2E3FC;\n",
              "    }\n",
              "\n",
              "    [theme=dark] .colab-df-convert:hover {\n",
              "      background-color: #434B5C;\n",
              "      box-shadow: 0px 1px 3px 1px rgba(0, 0, 0, 0.15);\n",
              "      filter: drop-shadow(0px 1px 2px rgba(0, 0, 0, 0.3));\n",
              "      fill: #FFFFFF;\n",
              "    }\n",
              "  </style>\n",
              "\n",
              "      <script>\n",
              "        const buttonEl =\n",
              "          document.querySelector('#df-07614078-4daf-48f7-be80-fce8cbbb69ee button.colab-df-convert');\n",
              "        buttonEl.style.display =\n",
              "          google.colab.kernel.accessAllowed ? 'block' : 'none';\n",
              "\n",
              "        async function convertToInteractive(key) {\n",
              "          const element = document.querySelector('#df-07614078-4daf-48f7-be80-fce8cbbb69ee');\n",
              "          const dataTable =\n",
              "            await google.colab.kernel.invokeFunction('convertToInteractive',\n",
              "                                                     [key], {});\n",
              "          if (!dataTable) return;\n",
              "\n",
              "          const docLinkHtml = 'Like what you see? Visit the ' +\n",
              "            '<a target=\"_blank\" href=https://colab.research.google.com/notebooks/data_table.ipynb>data table notebook</a>'\n",
              "            + ' to learn more about interactive tables.';\n",
              "          element.innerHTML = '';\n",
              "          dataTable['output_type'] = 'display_data';\n",
              "          await google.colab.output.renderOutput(dataTable, element);\n",
              "          const docLink = document.createElement('div');\n",
              "          docLink.innerHTML = docLinkHtml;\n",
              "          element.appendChild(docLink);\n",
              "        }\n",
              "      </script>\n",
              "    </div>\n",
              "  </div>\n",
              "  "
            ]
          },
          "metadata": {},
          "execution_count": 13
        }
      ]
    },
    {
      "cell_type": "markdown",
      "source": [
        "### Filtering the data to find the cheapest supermarket"
      ],
      "metadata": {
        "id": "lxenchNDVBdV"
      }
    },
    {
      "cell_type": "markdown",
      "source": [
        "To filter a DataFrame in pandas you can attach a bracket to you DataFrame, then and your filtering parameters inside. In the example above, we have stated that the new DataFrame product_basket, should be made using data from the product_df, but only if the basket_ids, are in the column `id`"
      ],
      "metadata": {
        "id": "O1F-FEnnVC2i"
      }
    },
    {
      "cell_type": "markdown",
      "source": [
        "Using the example above, create a new DataFrame that only contains the prices of products, which match the basket_ids list"
      ],
      "metadata": {
        "id": "PgBibfgiVaHG"
      }
    },
    {
      "cell_type": "code",
      "source": [
        "basket_prices = price_df[price_df['id'].isin(basket_ids)]"
      ],
      "metadata": {
        "id": "Iv7voOku8yBG"
      },
      "execution_count": 14,
      "outputs": []
    },
    {
      "cell_type": "markdown",
      "source": [
        "Return the new DataFrame to check it is correct"
      ],
      "metadata": {
        "id": "Y1CjjCgeVTqe"
      }
    },
    {
      "cell_type": "code",
      "source": [
        "basket_prices"
      ],
      "metadata": {
        "colab": {
          "base_uri": "https://localhost:8080/",
          "height": 423
        },
        "id": "n_yWISFkVWCq",
        "outputId": "19251c2a-66da-49fe-b43f-32c0e6eddd62"
      },
      "execution_count": 15,
      "outputs": [
        {
          "output_type": "execute_result",
          "data": {
            "text/plain": [
              "           id                                  name    retailer available  \\\n",
              "307     20272  Quorn Vegan Chicken Free Slices 100G   morrisons      True   \n",
              "308     20272  Quorn Vegan Chicken Free Slices 100G        asda      True   \n",
              "309     20272  Quorn Vegan Chicken Free Slices 100G        coop       NaN   \n",
              "310     20272  Quorn Vegan Chicken Free Slices 100G       ocado      True   \n",
              "311     20272  Quorn Vegan Chicken Free Slices 100G  sainsburys      True   \n",
              "...       ...                                   ...         ...       ...   \n",
              "81291  110105            McCain Home Chips Straight       tesco      True   \n",
              "81292  110105            McCain Home Chips Straight   morrisons      True   \n",
              "81293  110105            McCain Home Chips Straight        asda      True   \n",
              "81294  110105            McCain Home Chips Straight  sainsburys      True   \n",
              "81295  110105            McCain Home Chips Straight    waitrose      True   \n",
              "\n",
              "       price  price_per_unit  price_unit_amount price_unit  \\\n",
              "307     2.39            2.39              100.0          g   \n",
              "308     2.40            2.40              100.0          g   \n",
              "309     2.40             NaN                NaN        NaN   \n",
              "310     2.40            2.40              100.0          g   \n",
              "311     2.40            2.40              100.0          g   \n",
              "...      ...             ...                ...        ...   \n",
              "81291   3.00            0.25              100.0          g   \n",
              "81292   3.99            0.25              100.0          g   \n",
              "81293   4.00            0.25              100.0          g   \n",
              "81294   4.00            0.25              100.0          g   \n",
              "81295   4.20            0.26              100.0          g   \n",
              "\n",
              "                     crawl_date  \n",
              "307    2022-10-26T15:00:00.000Z  \n",
              "308    2022-10-26T14:00:00.000Z  \n",
              "309    2022-10-26T11:00:00.000Z  \n",
              "310    2022-10-26T09:00:00.000Z  \n",
              "311    2022-10-26T10:00:00.000Z  \n",
              "...                         ...  \n",
              "81291  2022-10-26T07:00:00.000Z  \n",
              "81292  2022-10-26T16:00:00.000Z  \n",
              "81293  2022-10-26T15:00:00.000Z  \n",
              "81294  2022-10-26T14:00:00.000Z  \n",
              "81295  2022-10-26T12:00:00.000Z  \n",
              "\n",
              "[220 rows x 9 columns]"
            ],
            "text/html": [
              "\n",
              "  <div id=\"df-5d3a7c72-6414-4ea4-a455-6d363993eb98\">\n",
              "    <div class=\"colab-df-container\">\n",
              "      <div>\n",
              "<style scoped>\n",
              "    .dataframe tbody tr th:only-of-type {\n",
              "        vertical-align: middle;\n",
              "    }\n",
              "\n",
              "    .dataframe tbody tr th {\n",
              "        vertical-align: top;\n",
              "    }\n",
              "\n",
              "    .dataframe thead th {\n",
              "        text-align: right;\n",
              "    }\n",
              "</style>\n",
              "<table border=\"1\" class=\"dataframe\">\n",
              "  <thead>\n",
              "    <tr style=\"text-align: right;\">\n",
              "      <th></th>\n",
              "      <th>id</th>\n",
              "      <th>name</th>\n",
              "      <th>retailer</th>\n",
              "      <th>available</th>\n",
              "      <th>price</th>\n",
              "      <th>price_per_unit</th>\n",
              "      <th>price_unit_amount</th>\n",
              "      <th>price_unit</th>\n",
              "      <th>crawl_date</th>\n",
              "    </tr>\n",
              "  </thead>\n",
              "  <tbody>\n",
              "    <tr>\n",
              "      <th>307</th>\n",
              "      <td>20272</td>\n",
              "      <td>Quorn Vegan Chicken Free Slices 100G</td>\n",
              "      <td>morrisons</td>\n",
              "      <td>True</td>\n",
              "      <td>2.39</td>\n",
              "      <td>2.39</td>\n",
              "      <td>100.0</td>\n",
              "      <td>g</td>\n",
              "      <td>2022-10-26T15:00:00.000Z</td>\n",
              "    </tr>\n",
              "    <tr>\n",
              "      <th>308</th>\n",
              "      <td>20272</td>\n",
              "      <td>Quorn Vegan Chicken Free Slices 100G</td>\n",
              "      <td>asda</td>\n",
              "      <td>True</td>\n",
              "      <td>2.40</td>\n",
              "      <td>2.40</td>\n",
              "      <td>100.0</td>\n",
              "      <td>g</td>\n",
              "      <td>2022-10-26T14:00:00.000Z</td>\n",
              "    </tr>\n",
              "    <tr>\n",
              "      <th>309</th>\n",
              "      <td>20272</td>\n",
              "      <td>Quorn Vegan Chicken Free Slices 100G</td>\n",
              "      <td>coop</td>\n",
              "      <td>NaN</td>\n",
              "      <td>2.40</td>\n",
              "      <td>NaN</td>\n",
              "      <td>NaN</td>\n",
              "      <td>NaN</td>\n",
              "      <td>2022-10-26T11:00:00.000Z</td>\n",
              "    </tr>\n",
              "    <tr>\n",
              "      <th>310</th>\n",
              "      <td>20272</td>\n",
              "      <td>Quorn Vegan Chicken Free Slices 100G</td>\n",
              "      <td>ocado</td>\n",
              "      <td>True</td>\n",
              "      <td>2.40</td>\n",
              "      <td>2.40</td>\n",
              "      <td>100.0</td>\n",
              "      <td>g</td>\n",
              "      <td>2022-10-26T09:00:00.000Z</td>\n",
              "    </tr>\n",
              "    <tr>\n",
              "      <th>311</th>\n",
              "      <td>20272</td>\n",
              "      <td>Quorn Vegan Chicken Free Slices 100G</td>\n",
              "      <td>sainsburys</td>\n",
              "      <td>True</td>\n",
              "      <td>2.40</td>\n",
              "      <td>2.40</td>\n",
              "      <td>100.0</td>\n",
              "      <td>g</td>\n",
              "      <td>2022-10-26T10:00:00.000Z</td>\n",
              "    </tr>\n",
              "    <tr>\n",
              "      <th>...</th>\n",
              "      <td>...</td>\n",
              "      <td>...</td>\n",
              "      <td>...</td>\n",
              "      <td>...</td>\n",
              "      <td>...</td>\n",
              "      <td>...</td>\n",
              "      <td>...</td>\n",
              "      <td>...</td>\n",
              "      <td>...</td>\n",
              "    </tr>\n",
              "    <tr>\n",
              "      <th>81291</th>\n",
              "      <td>110105</td>\n",
              "      <td>McCain Home Chips Straight</td>\n",
              "      <td>tesco</td>\n",
              "      <td>True</td>\n",
              "      <td>3.00</td>\n",
              "      <td>0.25</td>\n",
              "      <td>100.0</td>\n",
              "      <td>g</td>\n",
              "      <td>2022-10-26T07:00:00.000Z</td>\n",
              "    </tr>\n",
              "    <tr>\n",
              "      <th>81292</th>\n",
              "      <td>110105</td>\n",
              "      <td>McCain Home Chips Straight</td>\n",
              "      <td>morrisons</td>\n",
              "      <td>True</td>\n",
              "      <td>3.99</td>\n",
              "      <td>0.25</td>\n",
              "      <td>100.0</td>\n",
              "      <td>g</td>\n",
              "      <td>2022-10-26T16:00:00.000Z</td>\n",
              "    </tr>\n",
              "    <tr>\n",
              "      <th>81293</th>\n",
              "      <td>110105</td>\n",
              "      <td>McCain Home Chips Straight</td>\n",
              "      <td>asda</td>\n",
              "      <td>True</td>\n",
              "      <td>4.00</td>\n",
              "      <td>0.25</td>\n",
              "      <td>100.0</td>\n",
              "      <td>g</td>\n",
              "      <td>2022-10-26T15:00:00.000Z</td>\n",
              "    </tr>\n",
              "    <tr>\n",
              "      <th>81294</th>\n",
              "      <td>110105</td>\n",
              "      <td>McCain Home Chips Straight</td>\n",
              "      <td>sainsburys</td>\n",
              "      <td>True</td>\n",
              "      <td>4.00</td>\n",
              "      <td>0.25</td>\n",
              "      <td>100.0</td>\n",
              "      <td>g</td>\n",
              "      <td>2022-10-26T14:00:00.000Z</td>\n",
              "    </tr>\n",
              "    <tr>\n",
              "      <th>81295</th>\n",
              "      <td>110105</td>\n",
              "      <td>McCain Home Chips Straight</td>\n",
              "      <td>waitrose</td>\n",
              "      <td>True</td>\n",
              "      <td>4.20</td>\n",
              "      <td>0.26</td>\n",
              "      <td>100.0</td>\n",
              "      <td>g</td>\n",
              "      <td>2022-10-26T12:00:00.000Z</td>\n",
              "    </tr>\n",
              "  </tbody>\n",
              "</table>\n",
              "<p>220 rows × 9 columns</p>\n",
              "</div>\n",
              "      <button class=\"colab-df-convert\" onclick=\"convertToInteractive('df-5d3a7c72-6414-4ea4-a455-6d363993eb98')\"\n",
              "              title=\"Convert this dataframe to an interactive table.\"\n",
              "              style=\"display:none;\">\n",
              "        \n",
              "  <svg xmlns=\"http://www.w3.org/2000/svg\" height=\"24px\"viewBox=\"0 0 24 24\"\n",
              "       width=\"24px\">\n",
              "    <path d=\"M0 0h24v24H0V0z\" fill=\"none\"/>\n",
              "    <path d=\"M18.56 5.44l.94 2.06.94-2.06 2.06-.94-2.06-.94-.94-2.06-.94 2.06-2.06.94zm-11 1L8.5 8.5l.94-2.06 2.06-.94-2.06-.94L8.5 2.5l-.94 2.06-2.06.94zm10 10l.94 2.06.94-2.06 2.06-.94-2.06-.94-.94-2.06-.94 2.06-2.06.94z\"/><path d=\"M17.41 7.96l-1.37-1.37c-.4-.4-.92-.59-1.43-.59-.52 0-1.04.2-1.43.59L10.3 9.45l-7.72 7.72c-.78.78-.78 2.05 0 2.83L4 21.41c.39.39.9.59 1.41.59.51 0 1.02-.2 1.41-.59l7.78-7.78 2.81-2.81c.8-.78.8-2.07 0-2.86zM5.41 20L4 18.59l7.72-7.72 1.47 1.35L5.41 20z\"/>\n",
              "  </svg>\n",
              "      </button>\n",
              "      \n",
              "  <style>\n",
              "    .colab-df-container {\n",
              "      display:flex;\n",
              "      flex-wrap:wrap;\n",
              "      gap: 12px;\n",
              "    }\n",
              "\n",
              "    .colab-df-convert {\n",
              "      background-color: #E8F0FE;\n",
              "      border: none;\n",
              "      border-radius: 50%;\n",
              "      cursor: pointer;\n",
              "      display: none;\n",
              "      fill: #1967D2;\n",
              "      height: 32px;\n",
              "      padding: 0 0 0 0;\n",
              "      width: 32px;\n",
              "    }\n",
              "\n",
              "    .colab-df-convert:hover {\n",
              "      background-color: #E2EBFA;\n",
              "      box-shadow: 0px 1px 2px rgba(60, 64, 67, 0.3), 0px 1px 3px 1px rgba(60, 64, 67, 0.15);\n",
              "      fill: #174EA6;\n",
              "    }\n",
              "\n",
              "    [theme=dark] .colab-df-convert {\n",
              "      background-color: #3B4455;\n",
              "      fill: #D2E3FC;\n",
              "    }\n",
              "\n",
              "    [theme=dark] .colab-df-convert:hover {\n",
              "      background-color: #434B5C;\n",
              "      box-shadow: 0px 1px 3px 1px rgba(0, 0, 0, 0.15);\n",
              "      filter: drop-shadow(0px 1px 2px rgba(0, 0, 0, 0.3));\n",
              "      fill: #FFFFFF;\n",
              "    }\n",
              "  </style>\n",
              "\n",
              "      <script>\n",
              "        const buttonEl =\n",
              "          document.querySelector('#df-5d3a7c72-6414-4ea4-a455-6d363993eb98 button.colab-df-convert');\n",
              "        buttonEl.style.display =\n",
              "          google.colab.kernel.accessAllowed ? 'block' : 'none';\n",
              "\n",
              "        async function convertToInteractive(key) {\n",
              "          const element = document.querySelector('#df-5d3a7c72-6414-4ea4-a455-6d363993eb98');\n",
              "          const dataTable =\n",
              "            await google.colab.kernel.invokeFunction('convertToInteractive',\n",
              "                                                     [key], {});\n",
              "          if (!dataTable) return;\n",
              "\n",
              "          const docLinkHtml = 'Like what you see? Visit the ' +\n",
              "            '<a target=\"_blank\" href=https://colab.research.google.com/notebooks/data_table.ipynb>data table notebook</a>'\n",
              "            + ' to learn more about interactive tables.';\n",
              "          element.innerHTML = '';\n",
              "          dataTable['output_type'] = 'display_data';\n",
              "          await google.colab.output.renderOutput(dataTable, element);\n",
              "          const docLink = document.createElement('div');\n",
              "          docLink.innerHTML = docLinkHtml;\n",
              "          element.appendChild(docLink);\n",
              "        }\n",
              "      </script>\n",
              "    </div>\n",
              "  </div>\n",
              "  "
            ]
          },
          "metadata": {},
          "execution_count": 15
        }
      ]
    },
    {
      "cell_type": "markdown",
      "source": [
        "Notice in the DataFrame above, there is a column called `retailer` with all the supermarket names. We can use a pandas method called `.unique()` to get a list of all the supermarkets "
      ],
      "metadata": {
        "id": "9Y_ezqdqVeAU"
      }
    },
    {
      "cell_type": "code",
      "source": [
        "basket_prices['retailer'].unique()"
      ],
      "metadata": {
        "id": "LWjpy3ccEmVn",
        "colab": {
          "base_uri": "https://localhost:8080/"
        },
        "outputId": "9749a1eb-883b-4ebb-e3dd-6ae59a100960"
      },
      "execution_count": 16,
      "outputs": [
        {
          "output_type": "execute_result",
          "data": {
            "text/plain": [
              "array(['morrisons', 'asda', 'coop', 'ocado', 'sainsburys', 'tesco',\n",
              "       'waitrose', 'aldi'], dtype=object)"
            ]
          },
          "metadata": {},
          "execution_count": 16
        }
      ]
    },
    {
      "cell_type": "markdown",
      "source": [
        "When filtering DataFrames in pandas, you can attach methods such as `.unique()` and `.count()` to manipulate the data further"
      ],
      "metadata": {
        "id": "WB9uoY9cVjlO"
      }
    },
    {
      "cell_type": "markdown",
      "source": [
        "Another method within pandas that can be useful is `.group_by()`. `.group_by()` is used to split the data into certain groups, defined by the user. \n",
        "\n",
        "To check that the retailers have all the products in our basket, we can use `group_by()` and `.count()` to group the data by the suoermarket name, then count the number of products that supermarket has."
      ],
      "metadata": {
        "id": "WjOaTqcfVkWg"
      }
    },
    {
      "cell_type": "code",
      "source": [
        "basket_prices.groupby(['retailer']).count()"
      ],
      "metadata": {
        "colab": {
          "base_uri": "https://localhost:8080/",
          "height": 331
        },
        "id": "oQYAdqTJwLlu",
        "outputId": "c042a2fd-7fa9-4dea-e178-780170a6eef8"
      },
      "execution_count": 17,
      "outputs": [
        {
          "output_type": "execute_result",
          "data": {
            "text/plain": [
              "            id  name  available  price  price_per_unit  price_unit_amount  \\\n",
              "retailer                                                                    \n",
              "aldi         3     3          3      3               3                  3   \n",
              "asda        31    31         31     31              31                 31   \n",
              "coop        31    31          0     31               0                  0   \n",
              "morrisons   31    31         31     31              31                 31   \n",
              "ocado       31    31         31     31              31                 31   \n",
              "sainsburys  31    31         31     31              31                 31   \n",
              "tesco       31    31         31     31              31                 31   \n",
              "waitrose    31    31         31     31              31                 31   \n",
              "\n",
              "            price_unit  crawl_date  \n",
              "retailer                            \n",
              "aldi                 3           3  \n",
              "asda                31          31  \n",
              "coop                 0          31  \n",
              "morrisons           31          31  \n",
              "ocado               31          31  \n",
              "sainsburys          31          31  \n",
              "tesco               31          31  \n",
              "waitrose            31          31  "
            ],
            "text/html": [
              "\n",
              "  <div id=\"df-f6c4f68c-eb5e-48d2-96cb-45b925b97179\">\n",
              "    <div class=\"colab-df-container\">\n",
              "      <div>\n",
              "<style scoped>\n",
              "    .dataframe tbody tr th:only-of-type {\n",
              "        vertical-align: middle;\n",
              "    }\n",
              "\n",
              "    .dataframe tbody tr th {\n",
              "        vertical-align: top;\n",
              "    }\n",
              "\n",
              "    .dataframe thead th {\n",
              "        text-align: right;\n",
              "    }\n",
              "</style>\n",
              "<table border=\"1\" class=\"dataframe\">\n",
              "  <thead>\n",
              "    <tr style=\"text-align: right;\">\n",
              "      <th></th>\n",
              "      <th>id</th>\n",
              "      <th>name</th>\n",
              "      <th>available</th>\n",
              "      <th>price</th>\n",
              "      <th>price_per_unit</th>\n",
              "      <th>price_unit_amount</th>\n",
              "      <th>price_unit</th>\n",
              "      <th>crawl_date</th>\n",
              "    </tr>\n",
              "    <tr>\n",
              "      <th>retailer</th>\n",
              "      <th></th>\n",
              "      <th></th>\n",
              "      <th></th>\n",
              "      <th></th>\n",
              "      <th></th>\n",
              "      <th></th>\n",
              "      <th></th>\n",
              "      <th></th>\n",
              "    </tr>\n",
              "  </thead>\n",
              "  <tbody>\n",
              "    <tr>\n",
              "      <th>aldi</th>\n",
              "      <td>3</td>\n",
              "      <td>3</td>\n",
              "      <td>3</td>\n",
              "      <td>3</td>\n",
              "      <td>3</td>\n",
              "      <td>3</td>\n",
              "      <td>3</td>\n",
              "      <td>3</td>\n",
              "    </tr>\n",
              "    <tr>\n",
              "      <th>asda</th>\n",
              "      <td>31</td>\n",
              "      <td>31</td>\n",
              "      <td>31</td>\n",
              "      <td>31</td>\n",
              "      <td>31</td>\n",
              "      <td>31</td>\n",
              "      <td>31</td>\n",
              "      <td>31</td>\n",
              "    </tr>\n",
              "    <tr>\n",
              "      <th>coop</th>\n",
              "      <td>31</td>\n",
              "      <td>31</td>\n",
              "      <td>0</td>\n",
              "      <td>31</td>\n",
              "      <td>0</td>\n",
              "      <td>0</td>\n",
              "      <td>0</td>\n",
              "      <td>31</td>\n",
              "    </tr>\n",
              "    <tr>\n",
              "      <th>morrisons</th>\n",
              "      <td>31</td>\n",
              "      <td>31</td>\n",
              "      <td>31</td>\n",
              "      <td>31</td>\n",
              "      <td>31</td>\n",
              "      <td>31</td>\n",
              "      <td>31</td>\n",
              "      <td>31</td>\n",
              "    </tr>\n",
              "    <tr>\n",
              "      <th>ocado</th>\n",
              "      <td>31</td>\n",
              "      <td>31</td>\n",
              "      <td>31</td>\n",
              "      <td>31</td>\n",
              "      <td>31</td>\n",
              "      <td>31</td>\n",
              "      <td>31</td>\n",
              "      <td>31</td>\n",
              "    </tr>\n",
              "    <tr>\n",
              "      <th>sainsburys</th>\n",
              "      <td>31</td>\n",
              "      <td>31</td>\n",
              "      <td>31</td>\n",
              "      <td>31</td>\n",
              "      <td>31</td>\n",
              "      <td>31</td>\n",
              "      <td>31</td>\n",
              "      <td>31</td>\n",
              "    </tr>\n",
              "    <tr>\n",
              "      <th>tesco</th>\n",
              "      <td>31</td>\n",
              "      <td>31</td>\n",
              "      <td>31</td>\n",
              "      <td>31</td>\n",
              "      <td>31</td>\n",
              "      <td>31</td>\n",
              "      <td>31</td>\n",
              "      <td>31</td>\n",
              "    </tr>\n",
              "    <tr>\n",
              "      <th>waitrose</th>\n",
              "      <td>31</td>\n",
              "      <td>31</td>\n",
              "      <td>31</td>\n",
              "      <td>31</td>\n",
              "      <td>31</td>\n",
              "      <td>31</td>\n",
              "      <td>31</td>\n",
              "      <td>31</td>\n",
              "    </tr>\n",
              "  </tbody>\n",
              "</table>\n",
              "</div>\n",
              "      <button class=\"colab-df-convert\" onclick=\"convertToInteractive('df-f6c4f68c-eb5e-48d2-96cb-45b925b97179')\"\n",
              "              title=\"Convert this dataframe to an interactive table.\"\n",
              "              style=\"display:none;\">\n",
              "        \n",
              "  <svg xmlns=\"http://www.w3.org/2000/svg\" height=\"24px\"viewBox=\"0 0 24 24\"\n",
              "       width=\"24px\">\n",
              "    <path d=\"M0 0h24v24H0V0z\" fill=\"none\"/>\n",
              "    <path d=\"M18.56 5.44l.94 2.06.94-2.06 2.06-.94-2.06-.94-.94-2.06-.94 2.06-2.06.94zm-11 1L8.5 8.5l.94-2.06 2.06-.94-2.06-.94L8.5 2.5l-.94 2.06-2.06.94zm10 10l.94 2.06.94-2.06 2.06-.94-2.06-.94-.94-2.06-.94 2.06-2.06.94z\"/><path d=\"M17.41 7.96l-1.37-1.37c-.4-.4-.92-.59-1.43-.59-.52 0-1.04.2-1.43.59L10.3 9.45l-7.72 7.72c-.78.78-.78 2.05 0 2.83L4 21.41c.39.39.9.59 1.41.59.51 0 1.02-.2 1.41-.59l7.78-7.78 2.81-2.81c.8-.78.8-2.07 0-2.86zM5.41 20L4 18.59l7.72-7.72 1.47 1.35L5.41 20z\"/>\n",
              "  </svg>\n",
              "      </button>\n",
              "      \n",
              "  <style>\n",
              "    .colab-df-container {\n",
              "      display:flex;\n",
              "      flex-wrap:wrap;\n",
              "      gap: 12px;\n",
              "    }\n",
              "\n",
              "    .colab-df-convert {\n",
              "      background-color: #E8F0FE;\n",
              "      border: none;\n",
              "      border-radius: 50%;\n",
              "      cursor: pointer;\n",
              "      display: none;\n",
              "      fill: #1967D2;\n",
              "      height: 32px;\n",
              "      padding: 0 0 0 0;\n",
              "      width: 32px;\n",
              "    }\n",
              "\n",
              "    .colab-df-convert:hover {\n",
              "      background-color: #E2EBFA;\n",
              "      box-shadow: 0px 1px 2px rgba(60, 64, 67, 0.3), 0px 1px 3px 1px rgba(60, 64, 67, 0.15);\n",
              "      fill: #174EA6;\n",
              "    }\n",
              "\n",
              "    [theme=dark] .colab-df-convert {\n",
              "      background-color: #3B4455;\n",
              "      fill: #D2E3FC;\n",
              "    }\n",
              "\n",
              "    [theme=dark] .colab-df-convert:hover {\n",
              "      background-color: #434B5C;\n",
              "      box-shadow: 0px 1px 3px 1px rgba(0, 0, 0, 0.15);\n",
              "      filter: drop-shadow(0px 1px 2px rgba(0, 0, 0, 0.3));\n",
              "      fill: #FFFFFF;\n",
              "    }\n",
              "  </style>\n",
              "\n",
              "      <script>\n",
              "        const buttonEl =\n",
              "          document.querySelector('#df-f6c4f68c-eb5e-48d2-96cb-45b925b97179 button.colab-df-convert');\n",
              "        buttonEl.style.display =\n",
              "          google.colab.kernel.accessAllowed ? 'block' : 'none';\n",
              "\n",
              "        async function convertToInteractive(key) {\n",
              "          const element = document.querySelector('#df-f6c4f68c-eb5e-48d2-96cb-45b925b97179');\n",
              "          const dataTable =\n",
              "            await google.colab.kernel.invokeFunction('convertToInteractive',\n",
              "                                                     [key], {});\n",
              "          if (!dataTable) return;\n",
              "\n",
              "          const docLinkHtml = 'Like what you see? Visit the ' +\n",
              "            '<a target=\"_blank\" href=https://colab.research.google.com/notebooks/data_table.ipynb>data table notebook</a>'\n",
              "            + ' to learn more about interactive tables.';\n",
              "          element.innerHTML = '';\n",
              "          dataTable['output_type'] = 'display_data';\n",
              "          await google.colab.output.renderOutput(dataTable, element);\n",
              "          const docLink = document.createElement('div');\n",
              "          docLink.innerHTML = docLinkHtml;\n",
              "          element.appendChild(docLink);\n",
              "        }\n",
              "      </script>\n",
              "    </div>\n",
              "  </div>\n",
              "  "
            ]
          },
          "metadata": {},
          "execution_count": 17
        }
      ]
    },
    {
      "cell_type": "markdown",
      "source": [
        "Looking at the data above, is there any supermarket we should not include in our analysis? Why? \n",
        "\n",
        "there should be one supermarket, that does not have reliable data, and therefore, can be exclueded from the comparison."
      ],
      "metadata": {
        "id": "erEW-Fy_Vt5a"
      }
    },
    {
      "cell_type": "markdown",
      "source": [
        "Next, create a list of the retailers that we DO want to test:"
      ],
      "metadata": {
        "id": "7wWzmG1BVvLb"
      }
    },
    {
      "cell_type": "code",
      "source": [
        "retailers_to_test = ['morrisons', 'asda', 'coop', 'ocado', 'sainsburys', 'tesco', 'waitrose']"
      ],
      "metadata": {
        "id": "iutnDLiuwsfh"
      },
      "execution_count": 18,
      "outputs": []
    },
    {
      "cell_type": "markdown",
      "source": [
        "Then using the basket_prices DataFrame made previously, create a new DataFrame that only has the retailers we are testing"
      ],
      "metadata": {
        "id": "NiTR1EYGV2GK"
      }
    },
    {
      "cell_type": "code",
      "source": [
        "compare_price_basket = basket_prices[basket_prices['retailer'].isin(retailers_to_test)]"
      ],
      "metadata": {
        "id": "JHGf7zkNVzY6"
      },
      "execution_count": 19,
      "outputs": []
    },
    {
      "cell_type": "code",
      "source": [
        "compare_price_basket"
      ],
      "metadata": {
        "colab": {
          "base_uri": "https://localhost:8080/",
          "height": 423
        },
        "id": "Uu4AuLQ_V-XC",
        "outputId": "004ee754-66db-4de5-8c84-cdbeaee4f1d7"
      },
      "execution_count": 20,
      "outputs": [
        {
          "output_type": "execute_result",
          "data": {
            "text/plain": [
              "           id                                  name    retailer available  \\\n",
              "307     20272  Quorn Vegan Chicken Free Slices 100G   morrisons      True   \n",
              "308     20272  Quorn Vegan Chicken Free Slices 100G        asda      True   \n",
              "309     20272  Quorn Vegan Chicken Free Slices 100G        coop       NaN   \n",
              "310     20272  Quorn Vegan Chicken Free Slices 100G       ocado      True   \n",
              "311     20272  Quorn Vegan Chicken Free Slices 100G  sainsburys      True   \n",
              "...       ...                                   ...         ...       ...   \n",
              "81291  110105            McCain Home Chips Straight       tesco      True   \n",
              "81292  110105            McCain Home Chips Straight   morrisons      True   \n",
              "81293  110105            McCain Home Chips Straight        asda      True   \n",
              "81294  110105            McCain Home Chips Straight  sainsburys      True   \n",
              "81295  110105            McCain Home Chips Straight    waitrose      True   \n",
              "\n",
              "       price  price_per_unit  price_unit_amount price_unit  \\\n",
              "307     2.39            2.39              100.0          g   \n",
              "308     2.40            2.40              100.0          g   \n",
              "309     2.40             NaN                NaN        NaN   \n",
              "310     2.40            2.40              100.0          g   \n",
              "311     2.40            2.40              100.0          g   \n",
              "...      ...             ...                ...        ...   \n",
              "81291   3.00            0.25              100.0          g   \n",
              "81292   3.99            0.25              100.0          g   \n",
              "81293   4.00            0.25              100.0          g   \n",
              "81294   4.00            0.25              100.0          g   \n",
              "81295   4.20            0.26              100.0          g   \n",
              "\n",
              "                     crawl_date  \n",
              "307    2022-10-26T15:00:00.000Z  \n",
              "308    2022-10-26T14:00:00.000Z  \n",
              "309    2022-10-26T11:00:00.000Z  \n",
              "310    2022-10-26T09:00:00.000Z  \n",
              "311    2022-10-26T10:00:00.000Z  \n",
              "...                         ...  \n",
              "81291  2022-10-26T07:00:00.000Z  \n",
              "81292  2022-10-26T16:00:00.000Z  \n",
              "81293  2022-10-26T15:00:00.000Z  \n",
              "81294  2022-10-26T14:00:00.000Z  \n",
              "81295  2022-10-26T12:00:00.000Z  \n",
              "\n",
              "[217 rows x 9 columns]"
            ],
            "text/html": [
              "\n",
              "  <div id=\"df-4416c79b-cb08-4340-99a2-bd8f43b7fae9\">\n",
              "    <div class=\"colab-df-container\">\n",
              "      <div>\n",
              "<style scoped>\n",
              "    .dataframe tbody tr th:only-of-type {\n",
              "        vertical-align: middle;\n",
              "    }\n",
              "\n",
              "    .dataframe tbody tr th {\n",
              "        vertical-align: top;\n",
              "    }\n",
              "\n",
              "    .dataframe thead th {\n",
              "        text-align: right;\n",
              "    }\n",
              "</style>\n",
              "<table border=\"1\" class=\"dataframe\">\n",
              "  <thead>\n",
              "    <tr style=\"text-align: right;\">\n",
              "      <th></th>\n",
              "      <th>id</th>\n",
              "      <th>name</th>\n",
              "      <th>retailer</th>\n",
              "      <th>available</th>\n",
              "      <th>price</th>\n",
              "      <th>price_per_unit</th>\n",
              "      <th>price_unit_amount</th>\n",
              "      <th>price_unit</th>\n",
              "      <th>crawl_date</th>\n",
              "    </tr>\n",
              "  </thead>\n",
              "  <tbody>\n",
              "    <tr>\n",
              "      <th>307</th>\n",
              "      <td>20272</td>\n",
              "      <td>Quorn Vegan Chicken Free Slices 100G</td>\n",
              "      <td>morrisons</td>\n",
              "      <td>True</td>\n",
              "      <td>2.39</td>\n",
              "      <td>2.39</td>\n",
              "      <td>100.0</td>\n",
              "      <td>g</td>\n",
              "      <td>2022-10-26T15:00:00.000Z</td>\n",
              "    </tr>\n",
              "    <tr>\n",
              "      <th>308</th>\n",
              "      <td>20272</td>\n",
              "      <td>Quorn Vegan Chicken Free Slices 100G</td>\n",
              "      <td>asda</td>\n",
              "      <td>True</td>\n",
              "      <td>2.40</td>\n",
              "      <td>2.40</td>\n",
              "      <td>100.0</td>\n",
              "      <td>g</td>\n",
              "      <td>2022-10-26T14:00:00.000Z</td>\n",
              "    </tr>\n",
              "    <tr>\n",
              "      <th>309</th>\n",
              "      <td>20272</td>\n",
              "      <td>Quorn Vegan Chicken Free Slices 100G</td>\n",
              "      <td>coop</td>\n",
              "      <td>NaN</td>\n",
              "      <td>2.40</td>\n",
              "      <td>NaN</td>\n",
              "      <td>NaN</td>\n",
              "      <td>NaN</td>\n",
              "      <td>2022-10-26T11:00:00.000Z</td>\n",
              "    </tr>\n",
              "    <tr>\n",
              "      <th>310</th>\n",
              "      <td>20272</td>\n",
              "      <td>Quorn Vegan Chicken Free Slices 100G</td>\n",
              "      <td>ocado</td>\n",
              "      <td>True</td>\n",
              "      <td>2.40</td>\n",
              "      <td>2.40</td>\n",
              "      <td>100.0</td>\n",
              "      <td>g</td>\n",
              "      <td>2022-10-26T09:00:00.000Z</td>\n",
              "    </tr>\n",
              "    <tr>\n",
              "      <th>311</th>\n",
              "      <td>20272</td>\n",
              "      <td>Quorn Vegan Chicken Free Slices 100G</td>\n",
              "      <td>sainsburys</td>\n",
              "      <td>True</td>\n",
              "      <td>2.40</td>\n",
              "      <td>2.40</td>\n",
              "      <td>100.0</td>\n",
              "      <td>g</td>\n",
              "      <td>2022-10-26T10:00:00.000Z</td>\n",
              "    </tr>\n",
              "    <tr>\n",
              "      <th>...</th>\n",
              "      <td>...</td>\n",
              "      <td>...</td>\n",
              "      <td>...</td>\n",
              "      <td>...</td>\n",
              "      <td>...</td>\n",
              "      <td>...</td>\n",
              "      <td>...</td>\n",
              "      <td>...</td>\n",
              "      <td>...</td>\n",
              "    </tr>\n",
              "    <tr>\n",
              "      <th>81291</th>\n",
              "      <td>110105</td>\n",
              "      <td>McCain Home Chips Straight</td>\n",
              "      <td>tesco</td>\n",
              "      <td>True</td>\n",
              "      <td>3.00</td>\n",
              "      <td>0.25</td>\n",
              "      <td>100.0</td>\n",
              "      <td>g</td>\n",
              "      <td>2022-10-26T07:00:00.000Z</td>\n",
              "    </tr>\n",
              "    <tr>\n",
              "      <th>81292</th>\n",
              "      <td>110105</td>\n",
              "      <td>McCain Home Chips Straight</td>\n",
              "      <td>morrisons</td>\n",
              "      <td>True</td>\n",
              "      <td>3.99</td>\n",
              "      <td>0.25</td>\n",
              "      <td>100.0</td>\n",
              "      <td>g</td>\n",
              "      <td>2022-10-26T16:00:00.000Z</td>\n",
              "    </tr>\n",
              "    <tr>\n",
              "      <th>81293</th>\n",
              "      <td>110105</td>\n",
              "      <td>McCain Home Chips Straight</td>\n",
              "      <td>asda</td>\n",
              "      <td>True</td>\n",
              "      <td>4.00</td>\n",
              "      <td>0.25</td>\n",
              "      <td>100.0</td>\n",
              "      <td>g</td>\n",
              "      <td>2022-10-26T15:00:00.000Z</td>\n",
              "    </tr>\n",
              "    <tr>\n",
              "      <th>81294</th>\n",
              "      <td>110105</td>\n",
              "      <td>McCain Home Chips Straight</td>\n",
              "      <td>sainsburys</td>\n",
              "      <td>True</td>\n",
              "      <td>4.00</td>\n",
              "      <td>0.25</td>\n",
              "      <td>100.0</td>\n",
              "      <td>g</td>\n",
              "      <td>2022-10-26T14:00:00.000Z</td>\n",
              "    </tr>\n",
              "    <tr>\n",
              "      <th>81295</th>\n",
              "      <td>110105</td>\n",
              "      <td>McCain Home Chips Straight</td>\n",
              "      <td>waitrose</td>\n",
              "      <td>True</td>\n",
              "      <td>4.20</td>\n",
              "      <td>0.26</td>\n",
              "      <td>100.0</td>\n",
              "      <td>g</td>\n",
              "      <td>2022-10-26T12:00:00.000Z</td>\n",
              "    </tr>\n",
              "  </tbody>\n",
              "</table>\n",
              "<p>217 rows × 9 columns</p>\n",
              "</div>\n",
              "      <button class=\"colab-df-convert\" onclick=\"convertToInteractive('df-4416c79b-cb08-4340-99a2-bd8f43b7fae9')\"\n",
              "              title=\"Convert this dataframe to an interactive table.\"\n",
              "              style=\"display:none;\">\n",
              "        \n",
              "  <svg xmlns=\"http://www.w3.org/2000/svg\" height=\"24px\"viewBox=\"0 0 24 24\"\n",
              "       width=\"24px\">\n",
              "    <path d=\"M0 0h24v24H0V0z\" fill=\"none\"/>\n",
              "    <path d=\"M18.56 5.44l.94 2.06.94-2.06 2.06-.94-2.06-.94-.94-2.06-.94 2.06-2.06.94zm-11 1L8.5 8.5l.94-2.06 2.06-.94-2.06-.94L8.5 2.5l-.94 2.06-2.06.94zm10 10l.94 2.06.94-2.06 2.06-.94-2.06-.94-.94-2.06-.94 2.06-2.06.94z\"/><path d=\"M17.41 7.96l-1.37-1.37c-.4-.4-.92-.59-1.43-.59-.52 0-1.04.2-1.43.59L10.3 9.45l-7.72 7.72c-.78.78-.78 2.05 0 2.83L4 21.41c.39.39.9.59 1.41.59.51 0 1.02-.2 1.41-.59l7.78-7.78 2.81-2.81c.8-.78.8-2.07 0-2.86zM5.41 20L4 18.59l7.72-7.72 1.47 1.35L5.41 20z\"/>\n",
              "  </svg>\n",
              "      </button>\n",
              "      \n",
              "  <style>\n",
              "    .colab-df-container {\n",
              "      display:flex;\n",
              "      flex-wrap:wrap;\n",
              "      gap: 12px;\n",
              "    }\n",
              "\n",
              "    .colab-df-convert {\n",
              "      background-color: #E8F0FE;\n",
              "      border: none;\n",
              "      border-radius: 50%;\n",
              "      cursor: pointer;\n",
              "      display: none;\n",
              "      fill: #1967D2;\n",
              "      height: 32px;\n",
              "      padding: 0 0 0 0;\n",
              "      width: 32px;\n",
              "    }\n",
              "\n",
              "    .colab-df-convert:hover {\n",
              "      background-color: #E2EBFA;\n",
              "      box-shadow: 0px 1px 2px rgba(60, 64, 67, 0.3), 0px 1px 3px 1px rgba(60, 64, 67, 0.15);\n",
              "      fill: #174EA6;\n",
              "    }\n",
              "\n",
              "    [theme=dark] .colab-df-convert {\n",
              "      background-color: #3B4455;\n",
              "      fill: #D2E3FC;\n",
              "    }\n",
              "\n",
              "    [theme=dark] .colab-df-convert:hover {\n",
              "      background-color: #434B5C;\n",
              "      box-shadow: 0px 1px 3px 1px rgba(0, 0, 0, 0.15);\n",
              "      filter: drop-shadow(0px 1px 2px rgba(0, 0, 0, 0.3));\n",
              "      fill: #FFFFFF;\n",
              "    }\n",
              "  </style>\n",
              "\n",
              "      <script>\n",
              "        const buttonEl =\n",
              "          document.querySelector('#df-4416c79b-cb08-4340-99a2-bd8f43b7fae9 button.colab-df-convert');\n",
              "        buttonEl.style.display =\n",
              "          google.colab.kernel.accessAllowed ? 'block' : 'none';\n",
              "\n",
              "        async function convertToInteractive(key) {\n",
              "          const element = document.querySelector('#df-4416c79b-cb08-4340-99a2-bd8f43b7fae9');\n",
              "          const dataTable =\n",
              "            await google.colab.kernel.invokeFunction('convertToInteractive',\n",
              "                                                     [key], {});\n",
              "          if (!dataTable) return;\n",
              "\n",
              "          const docLinkHtml = 'Like what you see? Visit the ' +\n",
              "            '<a target=\"_blank\" href=https://colab.research.google.com/notebooks/data_table.ipynb>data table notebook</a>'\n",
              "            + ' to learn more about interactive tables.';\n",
              "          element.innerHTML = '';\n",
              "          dataTable['output_type'] = 'display_data';\n",
              "          await google.colab.output.renderOutput(dataTable, element);\n",
              "          const docLink = document.createElement('div');\n",
              "          docLink.innerHTML = docLinkHtml;\n",
              "          element.appendChild(docLink);\n",
              "        }\n",
              "      </script>\n",
              "    </div>\n",
              "  </div>\n",
              "  "
            ]
          },
          "metadata": {},
          "execution_count": 20
        }
      ]
    },
    {
      "cell_type": "markdown",
      "source": [
        "Now we have a dataframe that contains all the products, the supermarkets and the price, we can do one more aggregation to find the cheapest supermarket.\n",
        "\n",
        "Try grouping the data in compare_price_basket by `retailer`, and adding the price of the items in that supermarket, to find the cheapest place"
      ],
      "metadata": {
        "id": "rzJNgRg9V-FF"
      }
    },
    {
      "cell_type": "code",
      "source": [
        "compare_price_basket.groupby('retailer').sum()['price']"
      ],
      "metadata": {
        "colab": {
          "base_uri": "https://localhost:8080/"
        },
        "id": "NYGSrxqZxFEc",
        "outputId": "35a473a4-4c55-469b-b0a7-0bfb3b016d1e"
      },
      "execution_count": 21,
      "outputs": [
        {
          "output_type": "execute_result",
          "data": {
            "text/plain": [
              "retailer\n",
              "asda          80.98\n",
              "coop          96.20\n",
              "morrisons     87.31\n",
              "ocado         92.70\n",
              "sainsburys    80.65\n",
              "tesco         81.38\n",
              "waitrose      95.75\n",
              "Name: price, dtype: float64"
            ]
          },
          "metadata": {},
          "execution_count": 21
        }
      ]
    },
    {
      "cell_type": "markdown",
      "source": [
        "Which supermarket was the cheapest? Are you suprised by the result??"
      ],
      "metadata": {
        "id": "HV2L30SPWIz0"
      }
    },
    {
      "cell_type": "markdown",
      "source": [
        "##Task Two - How much more can you save if you split the basket between supermarkets (2 stores, 3 stores)?"
      ],
      "metadata": {
        "id": "cK_RpyVP-TWZ"
      }
    },
    {
      "cell_type": "markdown",
      "source": [
        "Now we know the cheapest supermarket over all, what happens if we decide to do our shopping in different supermarkets. To work this out we are going to use another python module called itertools. \n"
      ],
      "metadata": {
        "id": "ereEdIjkDwsX"
      }
    },
    {
      "cell_type": "markdown",
      "source": [
        "Itertools is a module that makes complex iterations (for loops) much simpler, and more effective.\n",
        "\n",
        "Note: An iterator is an object that cam be used in a for loop. A good example for this is a list of strings \n",
        "\n",
        "\n",
        "More information on the iteratools module can be found here: \n",
        "\n",
        "https://realpython.com/python-itertools/\n",
        "\n",
        "https://docs.python.org/3/library/itertools.html"
      ],
      "metadata": {
        "id": "AYDgkI34WTx4"
      }
    },
    {
      "cell_type": "markdown",
      "source": [
        "### Get the cheapest basket"
      ],
      "metadata": {
        "id": "85VjSexaWZ5V"
      }
    },
    {
      "cell_type": "markdown",
      "source": [
        "For this section, we will use itertools to find all possible combinations of 2 supermarkets, using the retailers_to_test list we created in the previous exercise."
      ],
      "metadata": {
        "id": "3XKoxKG_Wa4u"
      }
    },
    {
      "cell_type": "markdown",
      "source": [
        "First lets start by importing the module"
      ],
      "metadata": {
        "id": "9EQG9CaEWd0-"
      }
    },
    {
      "cell_type": "code",
      "source": [
        "import itertools"
      ],
      "metadata": {
        "id": "Ep0Bh4dNWgvb"
      },
      "execution_count": null,
      "outputs": []
    },
    {
      "cell_type": "markdown",
      "source": [
        "One module from itertools that can be used to to this is [`.combinations()`](https://www.geeksforgeeks.org/python-itertools-combinations-function/). \n",
        "\n",
        "`.combinations()` takes in two arguments: \n",
        "\n",
        "\n",
        "1.   The iterator - In this case, that is the `retailers_to_test` list\n",
        "2.   r - the size of the combinations; We want to keep this at 2 for now"
      ],
      "metadata": {
        "id": "mHvjrCYbWiKi"
      }
    },
    {
      "cell_type": "markdown",
      "source": [
        "Using `combinations()` can you print out a list of the potential pairs of supermarkets?"
      ],
      "metadata": {
        "id": "qNe2jsZlWlZQ"
      }
    },
    {
      "cell_type": "code",
      "source": [
        "retailer_pairs = [pairs for pairs in itertools.combinations(retailers_to_test, 2)]"
      ],
      "metadata": {
        "id": "ZJH9v1EnWo9Q"
      },
      "execution_count": null,
      "outputs": []
    },
    {
      "cell_type": "code",
      "source": [
        "retailer_pairs"
      ],
      "metadata": {
        "id": "0vM-cn-4Wt5Q"
      },
      "execution_count": null,
      "outputs": []
    },
    {
      "cell_type": "markdown",
      "source": [
        "Now we have the potential pairs, its time to find the total of the basket if you were to shop at each pair of supermarkets."
      ],
      "metadata": {
        "id": "_5dQbOdvWyfu"
      }
    },
    {
      "cell_type": "code",
      "source": [
        "def get_cheapest_basket(retailer_list):\n",
        "  retailer_price_basket = compare_price_basket[compare_price_basket['retailer'].isin(retailer_list)]\n",
        "  return retailer_price_basket.sort_values('price').drop_duplicates(['id'])['price'].sum()\n",
        "\n",
        "pair_basket_prices = [[r, get_cheapest_basket(r)] for r in retailer_pairs]\n",
        "pair_basket_prices"
      ],
      "metadata": {
        "id": "pK5AKw4Mv_6I",
        "colab": {
          "base_uri": "https://localhost:8080/"
        },
        "outputId": "6a088a5c-3537-4efb-deb0-7a0871028ea4"
      },
      "execution_count": null,
      "outputs": [
        {
          "output_type": "execute_result",
          "data": {
            "text/plain": [
              "[[('morrisons', 'asda'), 78.6],\n",
              " [('morrisons', 'coop'), 83.54],\n",
              " [('morrisons', 'ocado'), 82.46],\n",
              " [('morrisons', 'sainsburys'), 77.03],\n",
              " [('morrisons', 'tesco'), 78.51],\n",
              " [('morrisons', 'waitrose'), 84.04],\n",
              " [('asda', 'coop'), 77.68],\n",
              " [('asda', 'ocado'), 78.93],\n",
              " [('asda', 'sainsburys'), 77.44],\n",
              " [('asda', 'tesco'), 76.66],\n",
              " [('asda', 'waitrose'), 80.13],\n",
              " [('coop', 'ocado'), 86.14999999999999],\n",
              " [('coop', 'sainsburys'), 78.6],\n",
              " [('coop', 'tesco'), 79.48000000000002],\n",
              " [('coop', 'waitrose'), 87.29999999999998],\n",
              " [('ocado', 'sainsburys'), 79.14999999999999],\n",
              " [('ocado', 'tesco'), 79.48],\n",
              " [('ocado', 'waitrose'), 90.1],\n",
              " [('sainsburys', 'tesco'), 76.53],\n",
              " [('sainsburys', 'waitrose'), 80.15],\n",
              " [('tesco', 'waitrose'), 79.98]]"
            ]
          },
          "metadata": {},
          "execution_count": 15
        }
      ]
    },
    {
      "cell_type": "code",
      "source": [
        "def get_cheapest_store_combination(store_size):\n",
        "  retailer_combinations = itertools.combinations(retailers_to_test, store_size)\n",
        "  cheapest_stores = None\n",
        "  cheapest_price = None\n",
        "  for rc in retailer_combinations:\n",
        "    current_price = get_cheapest_basket(rc)\n",
        "    if not cheapest_price or current_price < cheapest_price:\n",
        "      cheapest_stores = rc\n",
        "      cheapest_price = current_price\n",
        "  return cheapest_stores, cheapest_price"
      ],
      "metadata": {
        "id": "BajmVZXm3wx0"
      },
      "execution_count": null,
      "outputs": []
    },
    {
      "cell_type": "code",
      "source": [
        "get_cheapest_store_combination(2)"
      ],
      "metadata": {
        "id": "7LkyYaX2GsgT",
        "colab": {
          "base_uri": "https://localhost:8080/"
        },
        "outputId": "c62bb828-d6b1-4b71-ab29-8696452e29ec"
      },
      "execution_count": null,
      "outputs": [
        {
          "output_type": "execute_result",
          "data": {
            "text/plain": [
              "(('sainsburys', 'tesco'), 76.53)"
            ]
          },
          "metadata": {},
          "execution_count": 17
        }
      ]
    },
    {
      "cell_type": "code",
      "source": [
        "get_cheapest_store_combination(3)"
      ],
      "metadata": {
        "colab": {
          "base_uri": "https://localhost:8080/"
        },
        "id": "6KkU4tGW5iIF",
        "outputId": "dc7af4e3-f84e-496a-d020-dd16a1853ddf"
      },
      "execution_count": null,
      "outputs": [
        {
          "output_type": "execute_result",
          "data": {
            "text/plain": [
              "(('morrisons', 'sainsburys', 'tesco'), 74.77000000000001)"
            ]
          },
          "metadata": {},
          "execution_count": 18
        }
      ]
    },
    {
      "cell_type": "code",
      "source": [
        "get_cheapest_store_combination(4)"
      ],
      "metadata": {
        "colab": {
          "base_uri": "https://localhost:8080/"
        },
        "id": "6vz1zcIn5n95",
        "outputId": "51ca6a1d-a693-4898-ff0e-55b8a1bebe0e"
      },
      "execution_count": null,
      "outputs": [
        {
          "output_type": "execute_result",
          "data": {
            "text/plain": [
              "(('morrisons', 'asda', 'sainsburys', 'tesco'), 73.06)"
            ]
          },
          "metadata": {},
          "execution_count": 19
        }
      ]
    },
    {
      "cell_type": "code",
      "source": [
        "get_cheapest_store_combination(5)"
      ],
      "metadata": {
        "colab": {
          "base_uri": "https://localhost:8080/"
        },
        "id": "LwT4aUtb5t8i",
        "outputId": "f2a5d0df-bdf3-4929-a079-2cd3e88d705e"
      },
      "execution_count": null,
      "outputs": [
        {
          "output_type": "execute_result",
          "data": {
            "text/plain": [
              "(('morrisons', 'asda', 'ocado', 'sainsburys', 'tesco'), 72.56)"
            ]
          },
          "metadata": {},
          "execution_count": 20
        }
      ]
    },
    {
      "cell_type": "code",
      "source": [
        "get_cheapest_store_combination(6)"
      ],
      "metadata": {
        "colab": {
          "base_uri": "https://localhost:8080/"
        },
        "id": "DwXdqn7n5wCR",
        "outputId": "dd49ef84-d4e4-40a3-ac2a-8958f80ab0ff"
      },
      "execution_count": null,
      "outputs": [
        {
          "output_type": "execute_result",
          "data": {
            "text/plain": [
              "(('morrisons', 'asda', 'coop', 'ocado', 'sainsburys', 'tesco'), 72.51)"
            ]
          },
          "metadata": {},
          "execution_count": 21
        }
      ]
    },
    {
      "cell_type": "code",
      "source": [
        "get_cheapest_store_combination(7)"
      ],
      "metadata": {
        "colab": {
          "base_uri": "https://localhost:8080/"
        },
        "id": "EJWOsG_x5yTb",
        "outputId": "61a45833-6c36-49d6-9636-252689719213"
      },
      "execution_count": null,
      "outputs": [
        {
          "output_type": "execute_result",
          "data": {
            "text/plain": [
              "(('morrisons', 'asda', 'coop', 'ocado', 'sainsburys', 'tesco', 'waitrose'),\n",
              " 72.51)"
            ]
          },
          "metadata": {},
          "execution_count": 22
        }
      ]
    },
    {
      "cell_type": "code",
      "source": [
        "x_data = range(1,8)\n",
        "y_data = [get_cheapest_store_combination(num_of_stores)[1] for num_of_stores in x_data]"
      ],
      "metadata": {
        "id": "r8IDl5_G528n"
      },
      "execution_count": null,
      "outputs": []
    },
    {
      "cell_type": "code",
      "source": [
        "y_data"
      ],
      "metadata": {
        "colab": {
          "base_uri": "https://localhost:8080/"
        },
        "id": "p9vpJWOv6_d4",
        "outputId": "2c010e55-e1c3-4924-fbe0-7ef20cc2d57d"
      },
      "execution_count": null,
      "outputs": [
        {
          "output_type": "execute_result",
          "data": {
            "text/plain": [
              "[80.64999999999999, 76.53, 74.77000000000001, 73.06, 72.56, 72.51, 72.51]"
            ]
          },
          "metadata": {},
          "execution_count": 24
        }
      ]
    },
    {
      "cell_type": "code",
      "source": [
        "import matplotlib.pyplot as plt\n",
        "# plt.plot(x_data, y_data)\n",
        "plt.xlabel('Number of Stores')\n",
        "plt.ylabel('Cheapest price for stores')\n",
        "plt.show()"
      ],
      "metadata": {
        "colab": {
          "base_uri": "https://localhost:8080/"
        },
        "id": "EFbT7xgN6Qpy",
        "outputId": "ae467c07-c185-4a1c-ca61-9766774af559"
      },
      "execution_count": null,
      "outputs": [
        {
          "output_type": "display_data",
          "data": {
            "text/plain": [
              "<Figure size 432x288 with 1 Axes>"
            ],
            "image/png": "[encoded data removed]"
          },
          "metadata": {
            "needs_background": "light"
          }
        }
      ]
    },
    {
      "cell_type": "markdown",
      "source": [
        "## Task Three (Optional) - Using a second dataset, come up with a cheaper basket that is also nutritionally beneficial"
      ],
      "metadata": {
        "id": "un0gzxkBHOUf"
      }
    },
    {
      "cell_type": "markdown",
      "source": [
        "So far, we've found that some decent savings can be made by just changing where you shop! However, if you are sticking to the same items, there is a limit to how much you can save.\n",
        "\n",
        "This task will take a look at the food you pick, and see how much you can save by changing what you eat (whilst still getting all the nutrition you need!)"
      ],
      "metadata": {
        "id": "nPyieta48MHI"
      }
    },
    {
      "cell_type": "markdown",
      "source": [
        "####Loading the data\n",
        "First, lets load in and take a look at a new dataset we are introducing, a table of nutritional information on a wide selection of items. "
      ],
      "metadata": {
        "id": "QQI3MxE4r8qA"
      }
    },
    {
      "cell_type": "code",
      "source": [
        "nutrition_df = pd.read_csv('/content/ctm-codebar-nov-22-planning/nutrition_small.csv.gz')"
      ],
      "metadata": {
        "colab": {
          "base_uri": "https://localhost:8080/"
        },
        "id": "l2BB6BBB7oWZ",
        "outputId": "072e8024-dae2-4eab-f109-ff4ccfa096ff"
      },
      "execution_count": null,
      "outputs": [
        {
          "output_type": "stream",
          "name": "stderr",
          "text": [
            "/usr/local/lib/python3.7/dist-packages/IPython/core/interactiveshell.py:3326: DtypeWarning: Columns (1) have mixed types.Specify dtype option on import or set low_memory=False.\n",
            "  exec(code_obj, self.user_global_ns, self.user_ns)\n"
          ]
        }
      ]
    },
    {
      "cell_type": "code",
      "source": [
        "#display the dataset here so we can see what it looks like\n",
        "nutrition_df"
      ],
      "metadata": {
        "id": "G46hsJy3sScQ"
      },
      "execution_count": null,
      "outputs": []
    },
    {
      "cell_type": "markdown",
      "source": [
        "As you can see, there is a vast collection of nutritional information on a large variety of foods. However, there is one big issue - how do we link this information to the prices of the products?"
      ],
      "metadata": {
        "id": "uSgs0prXsji9"
      }
    },
    {
      "cell_type": "markdown",
      "source": [
        "#### Introducing the similarity join\n",
        "\n",
        "If you compare the pricing dataframe and the nutritional dataframe side by side, just by looking at the product names you can see that there are a lot of products that are in both!\n",
        "\n",
        "But, that names are not exactly the same, even though we know they are  referring to the same product.\n",
        "\n",
        "How do we match these products together? We can use a tool for performing a method called a **similarity join**"
      ],
      "metadata": {
        "id": "o8Ki7n1Is_fW"
      }
    },
    {
      "cell_type": "code",
      "source": [
        "!pip install py-stringsimjoin"
      ],
      "metadata": {
        "colab": {
          "base_uri": "https://localhost:8080/"
        },
        "id": "ml05Oy7n79mP",
        "outputId": "da1f0a16-b743-4aee-dbab-31b6c47c5e96"
      },
      "execution_count": null,
      "outputs": [
        {
          "output_type": "stream",
          "name": "stdout",
          "text": [
            "Looking in indexes: https://pypi.org/simple, https://us-python.pkg.dev/colab-wheels/public/simple/\n",
            "Collecting py-stringsimjoin\n",
            "  Downloading py_stringsimjoin-0.3.2.tar.gz (1.1 MB)\n",
            "\u001b[K     |████████████████████████████████| 1.1 MB 4.4 MB/s \n",
            "\u001b[?25hRequirement already satisfied: joblib in /usr/local/lib/python3.7/dist-packages (from py-stringsimjoin) (1.2.0)\n",
            "Requirement already satisfied: pandas>=0.16.0 in /usr/local/lib/python3.7/dist-packages (from py-stringsimjoin) (1.3.5)\n",
            "Collecting PyPrind>=2.9.3\n",
            "  Downloading PyPrind-2.11.3-py2.py3-none-any.whl (8.4 kB)\n",
            "Collecting py_stringmatching>=0.2.1\n",
            "  Downloading py_stringmatching-0.4.2.tar.gz (661 kB)\n",
            "\u001b[K     |████████████████████████████████| 661 kB 47.6 MB/s \n",
            "\u001b[?25hRequirement already satisfied: six in /usr/local/lib/python3.7/dist-packages (from py-stringsimjoin) (1.15.0)\n",
            "Requirement already satisfied: python-dateutil>=2.7.3 in /usr/local/lib/python3.7/dist-packages (from pandas>=0.16.0->py-stringsimjoin) (2.8.2)\n",
            "Requirement already satisfied: pytz>=2017.3 in /usr/local/lib/python3.7/dist-packages (from pandas>=0.16.0->py-stringsimjoin) (2022.6)\n",
            "Requirement already satisfied: numpy>=1.17.3 in /usr/local/lib/python3.7/dist-packages (from pandas>=0.16.0->py-stringsimjoin) (1.21.6)\n",
            "Building wheels for collected packages: py-stringsimjoin, py-stringmatching\n",
            "  Building wheel for py-stringsimjoin (setup.py) ... \u001b[?25l\u001b[?25hdone\n",
            "  Created wheel for py-stringsimjoin: filename=py_stringsimjoin-0.3.2-cp37-cp37m-linux_x86_64.whl size=3724098 sha256=bd83a56834a9318870d6f24f7e4ff6144e7a0a07fe13937debb6bb5b6c0abda3\n",
            "  Stored in directory: /root/.cache/pip/wheels/7c/0d/a4/c0a779a4d196bed8ed41ca12be09a93e158e4fc974b59f9fd5\n",
            "  Building wheel for py-stringmatching (setup.py) ... \u001b[?25l\u001b[?25hdone\n",
            "  Created wheel for py-stringmatching: filename=py_stringmatching-0.4.2-cp37-cp37m-linux_x86_64.whl size=2055565 sha256=d8bcb9823df51d82f27aa2e277cdb07b055b910ced69298a60da9051ae165eb5\n",
            "  Stored in directory: /root/.cache/pip/wheels/7e/12/86/46f9378ae730550dd2f89cad50880e70d66cabedd90074f2d2\n",
            "Successfully built py-stringsimjoin py-stringmatching\n",
            "Installing collected packages: PyPrind, py-stringmatching, py-stringsimjoin\n",
            "Successfully installed PyPrind-2.11.3 py-stringmatching-0.4.2 py-stringsimjoin-0.3.2\n"
          ]
        }
      ]
    },
    {
      "cell_type": "code",
      "source": [
        "import py_stringsimjoin as ssj\n",
        "import py_stringmatching as sm"
      ],
      "metadata": {
        "id": "7qy14Ues7-o4"
      },
      "execution_count": null,
      "outputs": []
    },
    {
      "cell_type": "markdown",
      "source": [
        "####What is a similarity join?\n",
        "At its core, a similarity join take a look at 2 strings, and gives them a score based on how similar they are to each other.\n",
        "\n",
        "Lets take a look at 2 products -\n",
        "\n",
        "`Coke Can 250ml`\n",
        "\n",
        "`Diet Coke Can 330ml`\n",
        "\n",
        "We can split these names into individual words (sometimes referred to a tokens)\n",
        "\n",
        "`[Coke, Can, 250ml]`\n",
        "\n",
        "`[Diet, Coke, Can, 330ml]`\n",
        "\n",
        "To compute a *Jaccard* similarity score:\n",
        "\n",
        "$\\text{Score} = \\frac{ \\text{Number of shared words} }{ \\text{Total number of unique words}}$\n",
        "\n",
        "In this case, the shared words are:\n",
        "\n",
        "`[Coke, Can]`\n",
        "\n",
        "and all the unique words between the 2 strings are:\n",
        "\n",
        "`[Diet, Coke, Can, 250ml, 330ml]`\n",
        "\n",
        "therefore: \n",
        "\n",
        "$\\text{Score} = \\frac{2}{5} = 0.4$\n",
        "\n",
        "The higher the score is, the more similar the strings are. The lower the score is, the less similar the strings are."
      ],
      "metadata": {
        "id": "wdtkP9HLt_dX"
      }
    },
    {
      "cell_type": "markdown",
      "source": [
        "#### Tokenisation\n",
        "\n",
        "The first thing we need is a method to split strings into individual words/tokens"
      ],
      "metadata": {
        "id": "wNG0n0mpz7aJ"
      }
    },
    {
      "cell_type": "code",
      "source": [
        "alnum_tok = sm.AlphanumericTokenizer(return_set=True)"
      ],
      "metadata": {
        "id": "H8RIVmNB0Axg"
      },
      "execution_count": null,
      "outputs": []
    },
    {
      "cell_type": "markdown",
      "source": [
        "Lets give this a try:"
      ],
      "metadata": {
        "id": "kgO6wQTb0LVr"
      }
    },
    {
      "cell_type": "code",
      "source": [
        "print('Diet Coke', alnum_tok.tokenize('Diet Coke'))\n",
        "print('Diet-Coke', alnum_tok.tokenize('Diet-Coke'))"
      ],
      "metadata": {
        "colab": {
          "base_uri": "https://localhost:8080/"
        },
        "id": "pQV13gCe0Ovf",
        "outputId": "2137fe8e-4caa-4232-bf18-568f377c5ddb"
      },
      "execution_count": null,
      "outputs": [
        {
          "output_type": "stream",
          "name": "stdout",
          "text": [
            "Diet Coke ['Diet', 'Coke']\n",
            "Diet-Coke ['Diet', 'Coke']\n"
          ]
        }
      ]
    },
    {
      "cell_type": "markdown",
      "source": [
        "## Before We Join:\n",
        "\n",
        "The goal of joining is to pick the 'best' match from the possible options.\n",
        "If there are multiple matches for the same product, we would want to prioritise:\n",
        "- products that are from the UK\n",
        "- products that have nutritional information filled out.\n",
        "\n",
        "We also want to make sure all the product names are in lowercase."
      ],
      "metadata": {
        "id": "gxkV1wef1yF7"
      }
    },
    {
      "cell_type": "code",
      "source": [
        "nutrition_columns = [\n",
        "    'nutriments.fat_100g',\n",
        "    'nutriments.proteins_100g',\n",
        "    'nutriments.sugars_100g',\n",
        "    'nutriments.salt_100g',\n",
        "    'nutriments.energy-kcal_100g',\n",
        "    'nutriments.carbohydrates_100g'\n",
        "    ]\n",
        "\n",
        "#this is required by the join module.\n",
        "nutrition_df['uid'] = range(0, len(nutrition_df))\n",
        "\n",
        "#add a true/false column to check if the row has nutritional info\n",
        "nutrition_df['has_nutritional_info'] = nutrition_df[nutrition_columns].notna().any(axis='columns')\n",
        "\n",
        "#add a true/false column to check if the product is from the UK\n",
        "nutrition_df['is_uk'] = nutrition_df['countries_tags'].apply(lambda x: ('en:united-kingdom' in eval(x)) if isinstance(x, str) else False)\n",
        "\n",
        "#add a column to both dataframes with the product names in lowercase\n",
        "nutrition_df['product_name_lower'] = nutrition_df['product_name'].apply(lambda x: x.lower())\n",
        "product_df['name_lower'] = product_df['name'].apply(lambda x: x.lower())"
      ],
      "metadata": {
        "id": "_MLYnbm59mdf"
      },
      "execution_count": null,
      "outputs": []
    },
    {
      "cell_type": "markdown",
      "source": [
        "###Perform the join\n",
        "\n",
        "Next, lets perform the join!\n",
        "This function creates a table of all the possible matches for each product, and their similarity score. It is important to pick a threshold/minimum score, so that matches with a score lower than this are not included."
      ],
      "metadata": {
        "id": "7wZSRJxG4HLK"
      }
    },
    {
      "cell_type": "code",
      "source": [
        "output_pairs = ssj.jaccard_join(\n",
        "    product_df, nutrition_df, \n",
        "    'id', 'uid', 'name_lower', 'product_name_lower', \n",
        "    alnum_tok, 0.6, \n",
        "    l_out_attrs=['name'], r_out_attrs=['product_name', 'has_nutritional_info', 'is_uk'])"
      ],
      "metadata": {
        "id": "uSMipbT_9i8r"
      },
      "execution_count": null,
      "outputs": []
    },
    {
      "cell_type": "markdown",
      "source": [
        "###Pick the best Match:\n",
        "\n",
        "The `output_pairs` has multiple results for each product. Next, we want to pick the best match for each product and remove all the duplicates"
      ],
      "metadata": {
        "id": "trQGL3wi4kLD"
      }
    },
    {
      "cell_type": "code",
      "source": [
        "deduped_pairs = output_pairs.sort_values(['_sim_score', 'r_has_nutritional_info', 'r_is_uk'], ascending=False).drop_duplicates(['l_id'])\n",
        "deduped_pairs"
      ],
      "metadata": {
        "id": "_R-5LGFc-Cn9"
      },
      "execution_count": null,
      "outputs": []
    },
    {
      "cell_type": "markdown",
      "source": [
        "### Join the prices with nutrition\n",
        "Now we have the matching table, lets make use of that to join the prices table and nutrition table together! For this, we will use [df.merge](https://pandas.pydata.org/docs/reference/api/pandas.DataFrame.merge.html), which joins 2 tables together based on their ids."
      ],
      "metadata": {
        "id": "huPd5C5F4-f_"
      }
    },
    {
      "cell_type": "code",
      "source": [
        "#join the prices with the pairs table\n",
        "combined_df = price_df.merge(deduped_pairs,left_on='id',right_on='l_id')\n",
        "\n",
        "#join the combined table with the nutrition table\n",
        "combined_df = combined_df.merge(nutrition_df,left_on='r_uid',right_on='uid')\n",
        "combined_df"
      ],
      "metadata": {
        "id": "IFimzYRR-YWz"
      },
      "execution_count": null,
      "outputs": []
    },
    {
      "cell_type": "markdown",
      "source": [
        "### Looking at nutrition and prices\n",
        "\n",
        "Next, lets use our new table to find out what the cheapest products are for the nutritional value they provide!\n",
        "\n",
        "First, lets increase the amount of data we can see to better see our results:"
      ],
      "metadata": {
        "id": "dq8vOY82Ekx1"
      }
    },
    {
      "cell_type": "code",
      "source": [
        "pd.set_option('display.max_columns', 100)\n",
        "pd.set_option('display.max_rows', 100)"
      ],
      "metadata": {
        "id": "ohVUzlFuFTpi"
      },
      "execution_count": null,
      "outputs": []
    },
    {
      "cell_type": "markdown",
      "source": [
        "Next, we should filter the combined table to remove missing data, and pick only the most nutritious food. \n",
        "\n",
        "We will also need to make sure both the price and nutrition are using the same units (per 100g)."
      ],
      "metadata": {
        "id": "HUuwiVTdFrsJ"
      }
    },
    {
      "cell_type": "code",
      "source": [
        "combined_filter = (\n",
        "    combined_df['price_unit_amount'] == 100\n",
        "    ) & (combined_df['nutriments.energy-kcal_100g'].notna()\n",
        "    ) & (combined_df['nutriments.energy-kcal_100g'] > 0\n",
        "    ) & (combined_df['price_per_unit'] > 0\n",
        "    ) & (combined_df['nutriscore_grade'].isin(['a','b'])\n",
        ")\n",
        "\n",
        "df_to_analyse = combined_df[combined_filter].copy(deep=True)"
      ],
      "metadata": {
        "id": "bQgv4QUCFq1J"
      },
      "execution_count": null,
      "outputs": []
    },
    {
      "cell_type": "markdown",
      "source": [
        "Next, let create a new column to work out the cost for a full days worth of calories from each product, and use it to find the cheapest products"
      ],
      "metadata": {
        "id": "hHe1Is2eFWec"
      }
    },
    {
      "cell_type": "code",
      "source": [
        "#Work out the price per 2000 calories for each product\n",
        "df_to_analyse['price_per_2000kcal'] = (df_to_analyse['price_per_unit'] / df_to_analyse['nutriments.energy-kcal_100g']) * 2000\n",
        "df_to_analyse.sort_values('price_per_2000kcal').head(100)"
      ],
      "metadata": {
        "id": "aRbILJimAzvx"
      },
      "execution_count": null,
      "outputs": []
    },
    {
      "cell_type": "markdown",
      "source": [
        "You can now also have a look at the other nutrition columns to see if other foods are better for other types of nutrition."
      ],
      "metadata": {
        "id": "pZ7ijXNsGX5q"
      }
    },
    {
      "cell_type": "code",
      "source": [
        "df_to_analyse['price_per_50g_protein'] = (df_to_analyse['price_per_unit'] / df_to_analyse['nutriments.proteins_100g']) * 50\n",
        "df_to_analyse.sort_values('price_per_50g_protein').head(100)"
      ],
      "metadata": {
        "id": "ej4ahHC9FU-c"
      },
      "execution_count": null,
      "outputs": []
    },
    {
      "cell_type": "markdown",
      "source": [
        "## Task 4 - ML"
      ],
      "metadata": {
        "id": "2Z2OGrSKaVhY"
      }
    },
    {
      "cell_type": "code",
      "source": [
        "nutrition_df['categories_list'] = nutrition_df['categories_hierarchy'].apply(lambda x: eval(x) if isinstance(x, str) else [])\n",
        "en_nutrition_df = nutrition_df[nutrition_df['categories_list'].apply(lambda x: (len(x) > 0) and len([not_en for not_en in x if not_en.split(':')[0] != 'en']) == 0)].copy()"
      ],
      "metadata": {
        "id": "P8yy8NZRjdyz"
      },
      "execution_count": null,
      "outputs": []
    },
    {
      "cell_type": "code",
      "source": [
        "# There are some terms with occurrence as low as 1.\n",
        "terms_list = []\n",
        "for category_list in en_nutrition_df['categories_list']:\n",
        "  for c in category_list:\n",
        "    terms_list.append(c)\n",
        "len(terms_list)"
      ],
      "metadata": {
        "id": "oJH9aCfKaS2F"
      },
      "execution_count": null,
      "outputs": []
    },
    {
      "cell_type": "code",
      "source": [
        "categories_df = pd.DataFrame(terms_list, columns=['category'])\n",
        "column_counts = categories_df.groupby('category').size().reset_index(name='count')\n",
        "categories_to_use = column_counts[column_counts['count'] > 200]\n",
        "categories_to_use"
      ],
      "metadata": {
        "id": "qK1ueDbN-mdB"
      },
      "execution_count": null,
      "outputs": []
    },
    {
      "cell_type": "code",
      "source": [
        "hierarchy_df = en_nutrition_df.groupby('categories_hierarchy').size().reset_index(name='count')\n",
        "categories_to_drop = hierarchy_df[hierarchy_df['count'] < 2]\n",
        "categories_to_drop"
      ],
      "metadata": {
        "id": "loIc-5REtTZH"
      },
      "execution_count": null,
      "outputs": []
    },
    {
      "cell_type": "code",
      "source": [
        "en_nutrition_df['train_categories'] = en_nutrition_df['categories_list'].apply(lambda categories: [c for c in categories if c in categories_to_use['category'].values])\n",
        "label_filter = (\n",
        "    en_nutrition_df['train_categories'].apply(lambda x: len(x) > 0)\n",
        "    ) & (~en_nutrition_df['categories_hierarchy'].isin(categories_to_drop['categories_hierarchy']))\n",
        "labelled_nutrition_df = en_nutrition_df[label_filter]\n",
        "len(labelled_nutrition_df)"
      ],
      "metadata": {
        "id": "94HdViDBpgZy"
      },
      "execution_count": null,
      "outputs": []
    },
    {
      "cell_type": "code",
      "source": [
        "from tensorflow.keras import layers\n",
        "from tensorflow import keras\n",
        "import tensorflow as tf\n",
        "\n",
        "from sklearn.model_selection import train_test_split\n",
        "from ast import literal_eval\n",
        "import numpy as np"
      ],
      "metadata": {
        "id": "19Oi4T31iCB0"
      },
      "execution_count": null,
      "outputs": []
    },
    {
      "cell_type": "code",
      "source": [
        "test_split = 0.1\n",
        "\n",
        "# Initial train and test split.\n",
        "train_df, test_df = train_test_split(\n",
        "    labelled_nutrition_df,\n",
        "    test_size=test_split,\n",
        "    stratify=labelled_nutrition_df[\"categories_hierarchy\"].values,\n",
        ")\n",
        "\n",
        "# Splitting the test set further into validation\n",
        "# and new test sets.\n",
        "val_df = test_df.sample(frac=0.5)\n",
        "test_df.drop(val_df.index, inplace=True)\n",
        "\n",
        "print(f\"Number of rows in training set: {len(train_df)}\")\n",
        "print(f\"Number of rows in validation set: {len(val_df)}\")\n",
        "print(f\"Number of rows in test set: {len(test_df)}\")"
      ],
      "metadata": {
        "id": "4txfxrdihwFa"
      },
      "execution_count": null,
      "outputs": []
    },
    {
      "cell_type": "code",
      "source": [
        "terms = tf.ragged.constant(categories_to_use['category'].values)\n",
        "lookup = tf.keras.layers.StringLookup(output_mode=\"multi_hot\")\n",
        "lookup.adapt(terms)\n",
        "vocab = lookup.get_vocabulary()\n",
        "\n",
        "\n",
        "def invert_multi_hot(encoded_labels):\n",
        "    \"\"\"Reverse a single multi-hot encoded label to a tuple of vocab terms.\"\"\"\n",
        "    hot_indices = np.argwhere(encoded_labels == 1.0)[..., 0]\n",
        "    return np.take(vocab, hot_indices)\n",
        "\n",
        "\n",
        "print(\"Vocabulary:\\n\")\n",
        "print(vocab)"
      ],
      "metadata": {
        "id": "JkOAC-t-sZg4"
      },
      "execution_count": null,
      "outputs": []
    },
    {
      "cell_type": "code",
      "source": [
        "sample_label = train_df[\"train_categories\"].iloc[0]\n",
        "print(f\"Original label: {sample_label}\")\n",
        "\n",
        "label_binarized = lookup([sample_label])\n",
        "print(f\"Label-binarized representation: {label_binarized}\")"
      ],
      "metadata": {
        "id": "PC9bscV8tOC5"
      },
      "execution_count": null,
      "outputs": []
    },
    {
      "cell_type": "code",
      "source": [
        "train_df[\"product_name_lower\"].apply(lambda x: len(x.split(\" \"))).describe()"
      ],
      "metadata": {
        "id": "NE4j5rPWtXKx"
      },
      "execution_count": null,
      "outputs": []
    },
    {
      "cell_type": "code",
      "source": [
        "max_seqlen = 20\n",
        "batch_size = 128\n",
        "padding_token = \"<pad>\"\n",
        "auto = tf.data.AUTOTUNE\n",
        "\n",
        "\n",
        "def make_dataset(dataframe, is_train=True):\n",
        "    labels = tf.ragged.constant(dataframe[\"train_categories\"].values)\n",
        "    label_binarized = lookup(labels).numpy()\n",
        "    dataset = tf.data.Dataset.from_tensor_slices(\n",
        "        (dataframe[\"product_name_lower\"].values, label_binarized)\n",
        "    )\n",
        "    dataset = dataset.shuffle(batch_size * 10) if is_train else dataset\n",
        "    return dataset.batch(batch_size)"
      ],
      "metadata": {
        "id": "5Z-q0A9atvwn"
      },
      "execution_count": null,
      "outputs": []
    },
    {
      "cell_type": "code",
      "source": [
        "train_dataset = make_dataset(train_df, is_train=True)\n",
        "validation_dataset = make_dataset(val_df, is_train=False)\n",
        "test_dataset = make_dataset(test_df, is_train=False)"
      ],
      "metadata": {
        "id": "Vz3Tmp3KuGfT"
      },
      "execution_count": null,
      "outputs": []
    },
    {
      "cell_type": "code",
      "source": [
        "text_batch, label_batch = next(iter(train_dataset))\n",
        "\n",
        "for i, text in enumerate(text_batch[:5]):\n",
        "    label = label_batch[i].numpy()[None, ...]\n",
        "    print(f\"Abstract: {text}\")\n",
        "    print(f\"Label(s): {invert_multi_hot(label[0])}\")\n",
        "    print(\" \")"
      ],
      "metadata": {
        "id": "Wi1fAYfHuKDh"
      },
      "execution_count": null,
      "outputs": []
    },
    {
      "cell_type": "code",
      "source": [
        "vocabulary = set()\n",
        "train_df[\"product_name_lower\"].str.lower().str.split().apply(vocabulary.update)\n",
        "vocabulary_size = len(vocabulary)\n",
        "print(vocabulary_size)"
      ],
      "metadata": {
        "id": "dVGGwbPmuXU5"
      },
      "execution_count": null,
      "outputs": []
    },
    {
      "cell_type": "code",
      "source": [
        "text_vectorizer = layers.TextVectorization(\n",
        "    max_tokens=vocabulary_size, ngrams=3, output_mode=\"tf_idf\"\n",
        ")\n",
        "\n",
        "# `TextVectorization` layer needs to be adapted as per the vocabulary from our\n",
        "# training set.\n",
        "with tf.device(\"/CPU:0\"):\n",
        "    text_vectorizer.adapt(train_dataset.map(lambda text, label: text))\n",
        "\n",
        "train_dataset = train_dataset.map(\n",
        "    lambda text, label: (text_vectorizer(text), label), num_parallel_calls=auto\n",
        ").prefetch(auto)\n",
        "validation_dataset = validation_dataset.map(\n",
        "    lambda text, label: (text_vectorizer(text), label), num_parallel_calls=auto\n",
        ").prefetch(auto)\n",
        "test_dataset = test_dataset.map(\n",
        "    lambda text, label: (text_vectorizer(text), label), num_parallel_calls=auto\n",
        ").prefetch(auto)"
      ],
      "metadata": {
        "id": "viM3g18BuiSM"
      },
      "execution_count": null,
      "outputs": []
    },
    {
      "cell_type": "code",
      "source": [
        "def make_model():\n",
        "    shallow_mlp_model = keras.Sequential(\n",
        "        [\n",
        "            layers.Dense(1024, activation=\"relu\"),\n",
        "            layers.Dropout(0.3),\n",
        "            layers.Dense(512, activation=\"relu\"),\n",
        "            layers.Dropout(0.3),\n",
        "            layers.Dense(lookup.vocabulary_size(), activation=\"sigmoid\"),\n",
        "        ]  # More on why \"sigmoid\" has been used here in a moment.\n",
        "    )\n",
        "    return shallow_mlp_model"
      ],
      "metadata": {
        "id": "autpRegGulO5"
      },
      "execution_count": null,
      "outputs": []
    },
    {
      "cell_type": "code",
      "source": [
        "epochs = 5\n",
        "\n",
        "shallow_mlp_model = make_model()\n",
        "shallow_mlp_model.compile(\n",
        "    loss=\"binary_crossentropy\", optimizer=\"adam\", metrics=[\"top_k_categorical_accuracy\"]\n",
        ")\n",
        "\n",
        "history = shallow_mlp_model.fit(\n",
        "    train_dataset, validation_data=validation_dataset, epochs=epochs\n",
        ")\n",
        "\n",
        "\n",
        "def plot_result(item):\n",
        "    plt.plot(history.history[item], label=item)\n",
        "    plt.plot(history.history[\"val_\" + item], label=\"val_\" + item)\n",
        "    plt.xlabel(\"Epochs\")\n",
        "    plt.ylabel(item)\n",
        "    plt.title(\"Train and Validation {} Over Epochs\".format(item), fontsize=14)\n",
        "    plt.legend()\n",
        "    plt.grid()\n",
        "    plt.show()\n",
        "\n",
        "\n",
        "plot_result(\"loss\")\n",
        "plot_result(\"top_k_categorical_accuracy\")"
      ],
      "metadata": {
        "id": "gu0q6kMgurqk"
      },
      "execution_count": null,
      "outputs": []
    },
    {
      "cell_type": "code",
      "source": [
        "_, categorical_acc = shallow_mlp_model.evaluate(test_dataset)\n"
      ],
      "metadata": {
        "id": "o1a9Hv-tycDY"
      },
      "execution_count": null,
      "outputs": []
    },
    {
      "cell_type": "code",
      "source": [
        "# Create a model for inference.\n",
        "model_for_inference = keras.Sequential([text_vectorizer, shallow_mlp_model])\n",
        "\n",
        "# Create a small dataset just for demoing inference.\n",
        "inference_dataset = make_dataset(test_df.sample(100), is_train=False)\n",
        "text_batch, label_batch = next(iter(inference_dataset))\n",
        "predicted_probabilities = model_for_inference.predict(text_batch)\n",
        "\n",
        "# Perform inference.\n",
        "for i, text in enumerate(text_batch[:5]):\n",
        "    label = label_batch[i].numpy()[None, ...]\n",
        "    print(f\"Abstract: {text}\")\n",
        "    print(f\"Label(s): {invert_multi_hot(label[0])}\")\n",
        "    predicted_proba = [proba for proba in predicted_probabilities[i]]\n",
        "    top_5_labels = [\n",
        "        x\n",
        "        for x in sorted(\n",
        "            zip(predicted_probabilities[i], lookup.get_vocabulary()),\n",
        "            key=lambda pair: pair[0],\n",
        "            reverse=True,\n",
        "        )\n",
        "    ][:5]\n",
        "    print(top_5_labels)\n",
        "    print(\" \")"
      ],
      "metadata": {
        "id": "jRpR9ZjCBlk4"
      },
      "execution_count": null,
      "outputs": []
    },
    {
      "cell_type": "code",
      "source": [
        "# Create a model for inference.\n",
        "model_for_inference = keras.Sequential([text_vectorizer, shallow_mlp_model])\n",
        "\n",
        "predicted_probabilities = model_for_inference.predict(product_df['name_lower'].values)\n",
        "\n",
        "# Perform inference.\n",
        "\n",
        "predicted_labels = []\n",
        "for i, predicted_proba in enumerate(predicted_probabilities):\n",
        "    top_5_labels = [\n",
        "        x\n",
        "        for _, x in sorted(\n",
        "            zip(predicted_proba, lookup.get_vocabulary()),\n",
        "            key=lambda pair: pair[0],\n",
        "            reverse=True,\n",
        "        )\n",
        "    ][:5]\n",
        "    if i % 1000 == 0:\n",
        "      print('processed {} predictions'.format(i))\n",
        "    predicted_labels.append(top_5_labels)"
      ],
      "metadata": {
        "id": "CWRm1z7DEEzo"
      },
      "execution_count": null,
      "outputs": []
    },
    {
      "cell_type": "code",
      "source": [
        "product_df['predicted_labels'] = predicted_labels\n",
        "product_df"
      ],
      "metadata": {
        "id": "SwDZ-pm0IwnE"
      },
      "execution_count": null,
      "outputs": []
    },
    {
      "cell_type": "code",
      "source": [
        "bread_products = product_df[product_df['predicted_labels'].apply(lambda x: 'en:white-breads' in x)]\n",
        "bread_prices = bread_products.merge(price_df,left_on='id',right_on='id')\n",
        "bread_prices.sort_values('price_per_unit').head(100)"
      ],
      "metadata": {
        "id": "fPO2BQ8_JS-g"
      },
      "execution_count": null,
      "outputs": []
    },
    {
      "cell_type": "code",
      "source": [],
      "metadata": {
        "id": "k2xw1s8RKJ5B"
      },
      "execution_count": null,
      "outputs": []
    }
  ]
}