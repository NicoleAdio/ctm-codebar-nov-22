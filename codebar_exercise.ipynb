{
  "nbformat": 4,
  "nbformat_minor": 0,
  "metadata": {
    "colab": {
      "provenance": [],
      "authorship_tag": "ABX9TyNFeiP6MYhQsjMQbH+xz3xR",
      "include_colab_link": true
    },
    "kernelspec": {
      "name": "python3",
      "display_name": "Python 3"
    },
    "language_info": {
      "name": "python"
    }
  },
  "cells": [
    {
      "cell_type": "markdown",
      "metadata": {
        "id": "view-in-github",
        "colab_type": "text"
      },
      "source": [
        "<a href=\"https://colab.research.google.com/github/itsvipa/ctm-codebar-nov-22-planning/blob/main/codebar_exercise.ipynb\" target=\"_parent\"><img src=\"https://colab.research.google.com/assets/colab-badge.svg\" alt=\"Open In Colab\"/></a>"
      ]
    },
    {
      "cell_type": "markdown",
      "source": [
        "# Code for Living (Python for Data Engineering)"
      ],
      "metadata": {
        "id": "NalAJsHGvWab"
      }
    },
    {
      "cell_type": "markdown",
      "source": [
        "In this session we’ll be taking a look at harnessing the power of data to aid decision making for things like groceries and everyday purchases. We’ll get hands on with sourcing and making sense of the data, and then using it to answer some interesting questions, using techniques from fields like optimisation and machine learning."
      ],
      "metadata": {
        "id": "JgRY-jJxvckc"
      }
    },
    {
      "cell_type": "markdown",
      "source": [
        "## Before you start:\n",
        "\n",
        "Run the command below to download the data needed for this exercise; There should be three .csv files downloaded: uk_products.csv and products.csv and prices.csv"
      ],
      "metadata": {
        "id": "1Ff1H7KJwXBd"
      }
    },
    {
      "cell_type": "code",
      "source": [
        "!wget https://static.openfoodfacts.org/data/en.openfoodfacts.org.products.csv.gz -- Placeholder for now"
      ],
      "metadata": {
        "id": "eQTfIYOryNPj"
      },
      "execution_count": null,
      "outputs": []
    },
    {
      "cell_type": "markdown",
      "source": [
        "### Task One - Find cheapest supermarket for shopping basket?:\n",
        "\n",
        "In the last decade, the average shopping basket has increased by {insert percentage}. Using the data pulled from GitHub, find the the cheapest overall supermarket for the basket provided below. "
      ],
      "metadata": {
        "id": "iE-ghUvQvk7y"
      }
    },
    {
      "cell_type": "code",
      "source": [
        "import pandas as pd\n",
        "import csv\n",
        "import gzip\n",
        "from io import BytesIO, StringIO"
      ],
      "metadata": {
        "id": "0vST9NFmwH2X"
      },
      "execution_count": null,
      "outputs": []
    },
    {
      "cell_type": "code",
      "source": [
        "basket = ['Milk - Semi Skinned', 'Bread - Wholemeal', 'Orange Juice', 'Apples - Granny Smith', 'Brocoli', 'Eggs']"
      ],
      "metadata": {
        "id": "bM1jXslF--ie"
      },
      "execution_count": null,
      "outputs": []
    },
    {
      "cell_type": "code",
      "source": [
        "# Step One: Using a CSV reader, search for the items in your basket within in the uk-products.csv \n",
        "\n"
      ],
      "metadata": {
        "id": "rsjvpfL-wPSr"
      },
      "execution_count": 1,
      "outputs": []
    },
    {
      "cell_type": "code",
      "source": [
        "# Step Two: Now you have the product information, find the cheapest supermarket for your basker: Will obviously need to explain how to do this "
      ],
      "metadata": {
        "id": "LWjpy3ccEmVn"
      },
      "execution_count": null,
      "outputs": []
    },
    {
      "cell_type": "markdown",
      "source": [
        "### Task Two - How much more can you save if you split the basket between supermarkets (2 stores, 3 stores)?"
      ],
      "metadata": {
        "id": "cK_RpyVP-TWZ"
      }
    },
    {
      "cell_type": "markdown",
      "source": [
        "NOTE - Should this actually be the first task, I feel like this is simpler/a nice way two each them into iteration. "
      ],
      "metadata": {
        "id": "ereEdIjkDwsX"
      }
    },
    {
      "cell_type": "code",
      "source": [
        "# Step One: Find the cheapest supermarket for each product in your basket. "
      ],
      "metadata": {
        "id": "pK5AKw4Mv_6I"
      },
      "execution_count": 1,
      "outputs": []
    },
    {
      "cell_type": "code",
      "source": [
        "# Step Two: Find the top two cheapest supermarkets and for your basket of items"
      ],
      "metadata": {
        "id": "7LkyYaX2GsgT"
      },
      "execution_count": null,
      "outputs": []
    },
    {
      "cell_type": "markdown",
      "source": [
        "### Task Three (Optional) - Using a second dataset, come up with a cheaper basket that is also nutritionally beneficial"
      ],
      "metadata": {
        "id": "un0gzxkBHOUf"
      }
    },
    {
      "cell_type": "code",
      "source": [],
      "metadata": {
        "id": "6qvPvivzHgNx"
      },
      "execution_count": null,
      "outputs": []
    }
  ]
}