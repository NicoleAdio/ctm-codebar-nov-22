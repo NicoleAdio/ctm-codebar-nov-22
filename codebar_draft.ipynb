{
  "nbformat": 4,
  "nbformat_minor": 0,
  "metadata": {
    "colab": {
      "provenance": [],
      "collapsed_sections": [],
      "authorship_tag": "ABX9TyOLT/fbp+FugEVlaodj9Ht4",
      "include_colab_link": true
    },
    "kernelspec": {
      "name": "python3",
      "display_name": "Python 3"
    },
    "language_info": {
      "name": "python"
    }
  },
  "cells": [
    {
      "cell_type": "markdown",
      "metadata": {
        "id": "view-in-github",
        "colab_type": "text"
      },
      "source": [
        "<a href=\"https://colab.research.google.com/github/itsvipa/ctm-codebar-nov-22-planning/blob/main/codebar_draft.ipynb\" target=\"_parent\"><img src=\"https://colab.research.google.com/assets/colab-badge.svg\" alt=\"Open In Colab\"/></a>"
      ]
    },
    {
      "cell_type": "markdown",
      "source": [
        "# Code for Living (Python for Data Engineering)"
      ],
      "metadata": {
        "id": "NalAJsHGvWab"
      }
    },
    {
      "cell_type": "markdown",
      "source": [
        "In this session we’ll be taking a look at harnessing the power of data to aid decision making for things like groceries and everyday purchases. We’ll get hands on with sourcing and making sense of the data, and then using it to answer some interesting questions, using techniques from fields like optimisation and machine learning."
      ],
      "metadata": {
        "id": "JgRY-jJxvckc"
      }
    },
    {
      "cell_type": "markdown",
      "source": [
        "The goal of this exercise is to you python libraries like pandas, do the following:"
      ],
      "metadata": {
        "id": "ivk62-P3NMYP"
      }
    },
    {
      "cell_type": "markdown",
      "source": [
        "## Before you start:\n",
        "\n",
        "Run the command below to download the data needed for this exercise; There should be three .csv files downloaded: uk_products.csv and products.csv and prices.csv"
      ],
      "metadata": {
        "id": "1Ff1H7KJwXBd"
      }
    },
    {
      "cell_type": "code",
      "source": [
        "!git clone itsvipa/ctm-codebar-nov-22-planning"
      ],
      "metadata": {
        "colab": {
          "base_uri": "https://localhost:8080/"
        },
        "id": "eQTfIYOryNPj",
        "outputId": "40e8ace4-32b9-49d4-fca3-b9d6efbd99d3"
      },
      "execution_count": 44,
      "outputs": [
        {
          "output_type": "stream",
          "name": "stdout",
          "text": [
            "fatal: repository 'itsvipa/ctm-codebar-nov-22-planning' does not exist\n"
          ]
        }
      ]
    },
    {
      "cell_type": "code",
      "source": [
        "import pandas as pd\n",
        "import csv"
      ],
      "metadata": {
        "id": "0vST9NFmwH2X"
      },
      "execution_count": 134,
      "outputs": []
    },
    {
      "cell_type": "markdown",
      "source": [
        "### Task One - Find cheapest supermarket for shopping basket?:\n",
        "\n",
        "In the last decade, the average shopping basket has increased by {insert percentage}. Using the data pulled from GitHub, find the the cheapest overall supermarket for the basket provided below. "
      ],
      "metadata": {
        "id": "iE-ghUvQvk7y"
      }
    },
    {
      "cell_type": "code",
      "source": [
        "basket = [\n",
        "    [28798, \"Tetley Original Tea Bags x240\"], \n",
        "    [34398, \"Cravendale Whole Milk\"],\n",
        "    [20836,\t\"Warburtons Wholemeal Medium Bread\"],\n",
        "    [30904, \"Kellogg's Rice Krispies\"],\n",
        "    [26457,\t\"Tropicana Pineapple Juice\"],\n",
        "    [28095, \"Diet Coke Bottles\"],\n",
        "    [33442, \"Loyd Grossman Tomato & Basil Pasta Sauce\"],\n",
        "    [27161,\t\"Strings & Things Cheestrings Cheese Snack\"],\n",
        "    [31863,\t\"Mars 4 pack Ice Cream Bars\"],\n",
        "    [32002,\t\"Tilda Microwave Coconut Basmati Rice\"],\n",
        "    [86547,\t\"Knorr Chicken Stock Pot 4 Pack\"],\n",
        "    [84095,\t\"Arla skyr Fat Free Natural Yogurt\"],\n",
        "    [33255,\t\"Alpro Almond Long Life Drink\"],\n",
        "    [43809,\t\"Energizer Max 9V Batteries\"],\n",
        "    [25828,\t\"Robinsons Crushed Lime & Mint Fruit Cordial\"],\n",
        "    [32248,\t\"Sensations Balsamic Vinegar & Caramelised Onion Sharing Crisps\"],\n",
        "    [47361,\t\"Lynx Africa Body Spray Deodorant Aerosol\"],\n",
        "    [33188,\t\"De Cecco Spaghetti\"],\n",
        "    [92101,\t\"Chicago Town Cheese Pizza Tomato Stuffed Crust Takeaway\"],\n",
        "    [110105,\t\"McCain Home Chips Straight\"],\n",
        "    [44797,\t\"Fairy Original Washing Up Liquid\"],\n",
        "    [40915,\t\"Fairy Non Bio Washing Liquid for Sensitive Skin 1.33L 38 Washes\t\"],\n",
        "    [24091,\t\"Nissin Soba Yakitori Noodles\"],\n",
        "    [42002,\t\"Yakult Yogurt Drink\"],\t\n",
        "    [83092,\t\"Jammie Dodgers\"],\n",
        "    [33682,\t\"Quorn Mince\"],\t\n",
        "    [33492,\t\"Linda McCartney's Mozzarella Quarter Pounder Burger\"],\n",
        "    [51657,\t\"Purina ONE Adult Dry Cat Food Chicken & Wholegrains\"],\n",
        "    [24341,\t\"Birds Eye 4 Original Beef Burgers With Onions\"],\n",
        "    [138823,\t\"Cathedral City Extra Mature Cheddar Cheese 350g\"],\n",
        "    [27526,\t\"Filippo Berio Mild & Light Olive Oil\"]\n",
        "    ]\n",
        "\n",
        "print(len(basket))"
      ],
      "metadata": {
        "id": "bM1jXslF--ie",
        "colab": {
          "base_uri": "https://localhost:8080/"
        },
        "outputId": "3acc895a-cc9a-4117-e18c-e43267f1ab07"
      },
      "execution_count": 147,
      "outputs": [
        {
          "output_type": "stream",
          "name": "stdout",
          "text": [
            "31\n"
          ]
        }
      ]
    },
    {
      "cell_type": "code",
      "source": [
        "# Creates a dict with the product id and product name\n",
        "\n",
        "data = \"/content/ctm-codebar-nov-22-planning/products.csv\"\n",
        "\n",
        "pd.set_option('display.max_rows', None)\n",
        "pd.set_option('max_colwidth', None)\n",
        "df = pd.read_csv(data)\n",
        "\n",
        "df.sort_values(by=['price_count'], ascending=False)[df['price_count'] > 5]\n",
        "\n",
        "basket_dict = []\n",
        "\n",
        "for item in basket:\n",
        "  basket_dict.append({'id': item[0], 'name': item[1]})\n"
      ],
      "metadata": {
        "colab": {
          "base_uri": "https://localhost:8080/"
        },
        "id": "rsjvpfL-wPSr",
        "outputId": "6dd6099e-70df-4796-c4aa-ff4814c2a16d"
      },
      "execution_count": 136,
      "outputs": [
        {
          "output_type": "stream",
          "name": "stderr",
          "text": [
            "/usr/local/lib/python3.7/dist-packages/ipykernel_launcher.py:9: UserWarning: Boolean Series key will be reindexed to match DataFrame index.\n",
            "  if __name__ == '__main__':\n"
          ]
        }
      ]
    },
    {
      "cell_type": "code",
      "source": [
        "# Create the dataframe for basket items \n",
        "\n",
        "ids = [item['id'] for item in basket_dict]\n",
        "basket_df = df[(df['id'].isin(ids))]\n",
        "\n",
        "basket_df\n"
      ],
      "metadata": {
        "id": "Q1k1V2Y9oDt2"
      },
      "execution_count": null,
      "outputs": []
    },
    {
      "cell_type": "code",
      "source": [
        "# Creates dataframe for product prices \n",
        "\n",
        "price_data = \"/content/ctm-codebar-nov-22-planning/prices.csv\"\n",
        "price_df_raw = pd.read_csv(price_data)\n",
        "\n",
        "price_df = price_df_raw[(price_df_raw['id'].isin(ids))]\n",
        "\n",
        "price_df\n"
      ],
      "metadata": {
        "id": "Iv7voOku8yBG"
      },
      "execution_count": null,
      "outputs": []
    },
    {
      "cell_type": "code",
      "source": [
        "# Joins price and product into 1 dataframe and filters o\n",
        "\n",
        "new_df = basket_df.merge(price_df, on='id', how='left')\n",
        "\n",
        "new_df = new_df.set_index(['retailer'])\n",
        "\n",
        "# new_df.groupby(level=['retailer']).describe()\n",
        "\n",
        "print(new_df.groupby(level=['retailer'])['price'].sum())\n",
        "\n"
      ],
      "metadata": {
        "colab": {
          "base_uri": "https://localhost:8080/"
        },
        "id": "HhleZ1SZ9kce",
        "outputId": "2a7f6e65-60bd-4401-91cf-11ec5f246eae"
      },
      "execution_count": 223,
      "outputs": [
        {
          "output_type": "stream",
          "name": "stdout",
          "text": [
            "retailer\n",
            "aldi          15.83\n",
            "asda          79.53\n",
            "coop          89.15\n",
            "morrisons     86.98\n",
            "ocado         92.70\n",
            "sainsburys    80.80\n",
            "tesco         81.38\n",
            "waitrose      93.85\n",
            "Name: price, dtype: float64\n"
          ]
        }
      ]
    },
    {
      "cell_type": "code",
      "source": [
        "# Step Two: Now you have the product information, find the cheapest supermarket for your basker: Will obviously need to explain how to do this "
      ],
      "metadata": {
        "id": "LWjpy3ccEmVn"
      },
      "execution_count": 222,
      "outputs": []
    },
    {
      "cell_type": "markdown",
      "source": [
        "### Task Two - How much more can you save if you split the basket between supermarkets (2 stores, 3 stores)?"
      ],
      "metadata": {
        "id": "cK_RpyVP-TWZ"
      }
    },
    {
      "cell_type": "markdown",
      "source": [
        "NOTE - Should this actually be the first task, I feel like this is simpler/a nice way two each them into iteration. "
      ],
      "metadata": {
        "id": "ereEdIjkDwsX"
      }
    },
    {
      "cell_type": "code",
      "source": [
        "# Step One: Find the cheapest supermarket for each product in your basket. "
      ],
      "metadata": {
        "id": "pK5AKw4Mv_6I"
      },
      "execution_count": 50,
      "outputs": []
    },
    {
      "cell_type": "code",
      "source": [
        "# Step Two: Find the top two cheapest supermarkets and for your basket of items"
      ],
      "metadata": {
        "id": "7LkyYaX2GsgT"
      },
      "execution_count": 51,
      "outputs": []
    },
    {
      "cell_type": "markdown",
      "source": [
        "### Task Three (Optional) - Using a second dataset, come up with a cheaper basket that is also nutritionally beneficial"
      ],
      "metadata": {
        "id": "un0gzxkBHOUf"
      }
    },
    {
      "cell_type": "code",
      "source": [],
      "metadata": {
        "id": "6qvPvivzHgNx"
      },
      "execution_count": 51,
      "outputs": []
    }
  ]
}